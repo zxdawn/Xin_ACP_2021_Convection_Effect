{
 "cells": [
  {
   "cell_type": "markdown",
   "metadata": {},
   "source": [
    "This notebook aims to compare IRRs at three regions with different lightning settings of WRF-Chem.\n",
    "\n",
    "Three regions are defined in s5p_wrfchem_\\<yyyy\\>.ipynb: Fresh lightning, Downwind of Fresh lightning, and Aged Lightning."
   ]
  },
  {
   "cell_type": "code",
   "execution_count": null,
   "metadata": {},
   "outputs": [],
   "source": [
    "import xarray as xr\n",
    "from glob import glob\n",
    "import proplot as pplt\n",
    "\n",
    "# Disable warnings\n",
    "from warnings import filterwarnings\n",
    "filterwarnings(\"ignore\")"
   ]
  },
  {
   "cell_type": "code",
   "execution_count": null,
   "metadata": {},
   "outputs": [],
   "source": [
    "reaction_dict = {'NO_HO2_IRR': 'NO + HO$_2$ -> OH + NO$_2$', \n",
    "                 'NO_RO2_Oxidation': 'NO + R$_i$O$_2$ -> NO$_2$ + R$_i$O',\n",
    "                 'O1D_CB4_H2O_IRR': 'O($^1D$) + H$_2$O -> OH',\n",
    "                 'OH_O3_IRR': 'O$_3$ + OH ->  HO$_2$ + O$_2$',\n",
    "                 'HO2_O3_IRR': 'O$_3$ + HO$_2$ -> OH + 2O$_2$',\n",
    "                }"
   ]
  },
  {
   "cell_type": "markdown",
   "metadata": {},
   "source": [
    "## Read data"
   ]
  },
  {
   "cell_type": "code",
   "execution_count": null,
   "metadata": {},
   "outputs": [],
   "source": [
    "def read_s5p(dirname, date):\n",
    "    ds = xr.open_mfdataset(glob(f'{dirname}/tm5/S5P_TM5_L2__NO2____{date}*.nc'), group='S5P')\n",
    "    ds_tm5 = xr.open_mfdataset(glob(f'{dirname}/tm5/S5P_TM5_L2__NO2____{date}*.nc'), group='TM5')\n",
    "    ds_nolnox = xr.open_mfdataset(glob(f'{dirname}/nolnox/S5P_CHEM_L2__NO2____{date}*.nc'), group='CHEM')\n",
    "    ds_500lnox = xr.open_mfdataset(glob(f'{dirname}/lnox_500/S5P_CHEM_L2__NO2____{date}*.nc'), group='CHEM')\n",
    "    ds_700lnox = xr.open_mfdataset(glob(f'{dirname}/lnox_700/S5P_CHEM_L2__NO2____{date}*.nc'), group='CHEM')\n",
    "\n",
    "    mask = ds['no2_scd_flag']==0\n",
    "    mask.load()\n",
    "\n",
    "    return ds.where(mask), ds_tm5.where(mask), ds_nolnox.where(mask),\\\n",
    "           ds_500lnox.where(mask), ds_700lnox.where(mask),\\\n",
    "\n",
    "\n",
    "def read_mask(dirname):\n",
    "    mask_fresh = xr.open_dataset(f'{dirname}/mask_fresh.nc')['mask_fresh']\n",
    "    mask_downwind = xr.open_dataset(f'{dirname}/mask_downwind.nc')['mask_downwind']\n",
    "    mask_aged = xr.open_dataset(f'{dirname}/mask_aged.nc')['mask_aged']\n",
    "\n",
    "    return mask_fresh, mask_downwind, mask_aged\n",
    "\n",
    "def mask_data(mask, ds_tm5, ds_nolnox, ds_500lnox, ds_700lnox):\n",
    "    pressure = ds_tm5['plevels'].where(mask, drop=True).mean(['y', 'x']).load()\n",
    "\n",
    "    o3_nolnox = ds_nolnox['o3apriori'].where(mask, drop=True).mean(['y', 'x']).load()\n",
    "    o3_500lnox = ds_500lnox['o3apriori'].where(mask, drop=True).mean(['y', 'x']).load()\n",
    "    o3_700lnox = ds_700lnox['o3apriori'].where(mask, drop=True).mean(['y', 'x']).load()\n",
    "\n",
    "    return pressure, o3_nolnox, o3_500lnox, o3_700lnox"
   ]
  },
  {
   "cell_type": "code",
   "execution_count": null,
   "metadata": {},
   "outputs": [],
   "source": [
    "s5p_dir = '../data/s5p_chem/'\n",
    "ds_2019, ds_2019_tm5, ds_2019_nolnox, ds_2019_500lnox, ds_2019_700lnox = read_s5p(s5p_dir, '20190725')\n",
    "ds_2020, ds_2020_tm5, ds_2020_nolnox, ds_2020_500lnox, ds_2020_700lnox = read_s5p(s5p_dir, '20200901')\n",
    "\n",
    "print('Reading masks ...')\n",
    "mask_fresh, mask_downwind, mask_aged = read_mask(s5p_dir)\n",
    "\n",
    "print('Calculating mean O3 profile in masks ...')\n",
    "pressure_fresh, o3_nolnox_fresh, o3_500lnox_fresh, o3_700lnox_fresh = \\\n",
    "   mask_data(mask_fresh, ds_2019_tm5, ds_2019_nolnox, ds_2019_500lnox, ds_2019_700lnox)\n",
    "\n",
    "pressure_downwind, o3_nolnox_downwind, o3_500lnox_downwind, o3_700lnox_downwind = \\\n",
    "   mask_data(mask_downwind, ds_2019_tm5, ds_2019_nolnox, ds_2019_500lnox, ds_2019_700lnox)\n",
    "\n",
    "pressure_aged, o3_nolnox_aged, o3_500lnox_aged, o3_700lnox_aged = \\\n",
    "   mask_data(mask_aged, ds_2020_tm5, ds_2020_nolnox, ds_2020_500lnox, ds_2020_700lnox)"
   ]
  },
  {
   "cell_type": "code",
   "execution_count": null,
   "metadata": {},
   "outputs": [],
   "source": [
    "def read_irr(dirname):\n",
    "    ds_fresh = xr.open_mfdataset(glob(f'{dirname}/irr_fresh*nc'))\n",
    "    ds_downwind = xr.open_mfdataset(glob(f'{dirname}/irr_downwind*nc'))\n",
    "    ds_aged = xr.open_mfdataset(glob(f'{dirname}/irr_aged*nc'))\n",
    "\n",
    "    return ds_fresh, ds_downwind, ds_aged"
   ]
  },
  {
   "cell_type": "code",
   "execution_count": null,
   "metadata": {},
   "outputs": [],
   "source": [
    "irr_dir = '../data/wrfchem/irr/'\n",
    "ds_fresh, ds_downwind, ds_aged = read_irr(irr_dir)"
   ]
  },
  {
   "cell_type": "markdown",
   "metadata": {},
   "source": [
    "## Plot $\\Delta$P(O3) profile and IRR timeseries"
   ]
  },
  {
   "cell_type": "code",
   "execution_count": null,
   "metadata": {},
   "outputs": [],
   "source": [
    "def plot_o3_profile(ax, pressure, o3_nolnox, o3_500lnox, o3_700lnox):\n",
    "    l1 = ax.plot((o3_500lnox-o3_nolnox)*1e9, pressure, label='500 mol/flash - \\n 0 mol/flash', c='green7')\n",
    "    l2 = ax.plot((o3_700lnox-o3_nolnox)*1e9, pressure, label='700 mol/flash - \\n 0 mol/flash', c='red7')\n",
    "\n",
    "    ax.format(xlim=(-3, 3), ylim=(1000, 100), ylabel='Pressure (hPa)', xlabel='$\\Delta$P(O$_3$) [ppbv]')\n",
    "\n",
    "    return [l1, l2]\n"
   ]
  },
  {
   "cell_type": "code",
   "execution_count": null,
   "metadata": {},
   "outputs": [],
   "source": [
    "def plot_mean_irr(ax, da_lnox, da_nolnox, pmax, pmin, reaction_dict):\n",
    "    colors = ['red6', 'orange6', 'green6', 'blue6', 'violet6']\n",
    "    # calculate the mean IRR between pmax and pmin\n",
    "    da_lnox = da_lnox.sel(layer=slice(pmax, pmin)).mean('layer')\n",
    "    da_nolnox = da_nolnox.sel(layer=slice(pmax, pmin)).mean('layer')\n",
    "    lines = plot_irr(ax, colors, da_nolnox, reaction_dict, linestyle='dotted')\n",
    "    lines = plot_irr(ax, colors, da_lnox, reaction_dict)\n",
    "\n",
    "    return lines\n",
    "\n",
    "def plot_irr(ax, colors, da, reaction_dict, linestyle='-'):\n",
    "    total_irr = da.sel(varname=list(reaction_dict.keys())[:2]).sum(dim='varname')\n",
    "    - da.sel(varname=list(reaction_dict.keys())[2:]).sum(dim='varname')\n",
    "\n",
    "    lines = []\n",
    "    for i,key in enumerate(reaction_dict.keys()):\n",
    "        # \"step\": https://matplotlib.org/3.1.1/gallery/lines_bars_and_markers/step_demo.html#sphx-glr-gallery-lines-bars-and-markers-step-demo-py\n",
    "#         if i <= 1:\n",
    "#             k = 1\n",
    "#         else:\n",
    "#             k = -1\n",
    "\n",
    "        line = ax.step(da.Time,\n",
    "                        da.sel(varname=key),#*k,\n",
    "                        where='pre',\n",
    "                        label=reaction_dict[key],\n",
    "                       color=colors[i],\n",
    "#                         color=cmap(i / (len(da.RXN)-1)),\n",
    "                        linestyle=linestyle,\n",
    "                        )\n",
    "        lines.append(line)\n",
    "\n",
    "    # plot the total IRR\n",
    "    total_irr.attrs['units'] = 'molec. cm$^{-3}$ s$^{-1}$'\n",
    "    total_line = ax.step(total_irr.Time,\n",
    "                          total_irr,\n",
    "                          where='pre',\n",
    "                          label='Total IRR', color='gray8',\n",
    "                          linestyle=linestyle)\n",
    "\n",
    "    return lines+[total_line]\n"
   ]
  },
  {
   "cell_type": "code",
   "execution_count": null,
   "metadata": {},
   "outputs": [],
   "source": [
    "fig, axs = pplt.subplots(nrows=3, ncols=3, sharex=0, sharey=1, spany=0)\n",
    "\n",
    "# ------ plot O3 profiles ------\n",
    "ax = axs[0]\n",
    "plot_o3_profile(ax, pressure_fresh, o3_nolnox_fresh, o3_500lnox_fresh, o3_700lnox_fresh)\n",
    "\n",
    "ax = axs[1]\n",
    "plot_o3_profile(ax, pressure_downwind, o3_nolnox_downwind, o3_500lnox_downwind, o3_700lnox_downwind)\n",
    "\n",
    "ax = axs[2]\n",
    "o3_lines = plot_o3_profile(ax, pressure_aged, o3_nolnox_aged, o3_500lnox_aged, o3_700lnox_aged)\n",
    "\n",
    "fig.legend(o3_lines, ncol=1, row=1, loc='r')\n",
    "\n",
    "# add height ticks\n",
    "axs_dual = axs[:3].dualy('height', label='', ticks=2.5)\n",
    "axs_dual[2].format(ylabel='Height (km)')\n",
    "\n",
    "# ------ plot mean IRR between 800 hPa and 500 hPa ------\n",
    "pmax = 800; pmin = 500\n",
    "plot_mean_irr(axs[3], ds_fresh['irr_lnox'], ds_fresh['irr_nolnox'], pmax, pmin, reaction_dict)\n",
    "plot_mean_irr(axs[4], ds_downwind['irr_lnox'], ds_downwind['irr_nolnox'], pmax, pmin, reaction_dict)\n",
    "plot_mean_irr(axs[5], ds_aged['irr_lnox'], ds_aged['irr_nolnox'], pmax, pmin, reaction_dict)\n",
    "\n",
    "# ------ plot mean IRR between 500 hPa and 200 hPa ------\n",
    "pmax = 500; pmin = 200\n",
    "plot_mean_irr(axs[6], ds_fresh['irr_lnox'], ds_fresh['irr_nolnox'], pmax, pmin, reaction_dict)\n",
    "plot_mean_irr(axs[7], ds_downwind['irr_lnox'], ds_downwind['irr_nolnox'], pmax, pmin, reaction_dict)\n",
    "legend = plot_mean_irr(axs[8], ds_aged['irr_lnox'], ds_aged['irr_nolnox'], pmax, pmin, reaction_dict)\n",
    "\n",
    "# set axis\n",
    "axs[:2].format(title='2019-07-25')\n",
    "axs[2].format(title='2020-09-01')\n",
    "axs[3:6].format(xlim=(ds_fresh.Time.values[0], ds_fresh.Time.values[-1]),\n",
    "                ylim=(3e5, 3e7),\n",
    "                title='800 hPa to 500 hPa')\n",
    "axs[6:9].format(xlim=(ds_fresh.Time.values[0], ds_fresh.Time.values[-1]),\n",
    "                ylim=(3e4, 3e7),\n",
    "                title='500 hPa to 200 hPa')\n",
    "axs[5].format(xlim=(ds_aged.Time.values[0], ds_aged.Time.values[-1]))\n",
    "axs[8].format(xlim=(ds_aged.Time.values[0], ds_aged.Time.values[-1]))\n",
    "\n",
    "axs[3:].format(yscale='log', yformatter='log',\n",
    "               xlabel='Time (UTC)',\n",
    "               ylabel='IRR (molec. cm$^{-3}$ s$^{-1}$)',\n",
    "               xlocator=('minute', range(0, 60, 30)),\n",
    "               xminorlocator=('minute', range(0, 60, 10)),\n",
    "               xformatter='%H:%M')\n",
    "\n",
    "axs.format(grid=False, abc=True, abcloc='ul', abcstyle='(a)',\n",
    "           toplabels=('Fresh Lightning', 'Downwind of Fresh Lightning', 'Aged Lightning'),\n",
    "           )\n",
    "\n",
    "# add timeline\n",
    "# -- TROPOMI relative overpass time\n",
    "axs[3:5].axvline('2019-07-25T04:40:00', c='k', ls='-', alpha=0.3)\n",
    "axs[5].axvline('2020-09-01T05:20:00', c='k', ls='-', alpha=0.3)\n",
    "axs[6:8].axvline('2019-07-25T04:40:00', c='k', ls='-', alpha=0.3)\n",
    "vline = axs[8].axvline('2020-09-01T05:20:00', c='k', ls='-', alpha=0.3, label='TROPOMI Overpass Time')\n",
    "\n",
    "# add legend\n",
    "fig.legend(legend+[vline], loc='r', ncols=1, rows=(2,3))\n",
    "\n",
    "fig.savefig('../figures/irr_timeseries.pdf')"
   ]
  },
  {
   "cell_type": "markdown",
   "metadata": {},
   "source": [
    "- P(O3) increase with LNOx in 800 ~ 500 hPa, but decrease in 500 ~ 200 hPa\n",
    "- NO+HO2 --> more O3+OH, less O3+HO2\n",
    "- The increase of total IRR between 500 and 200 hPa can reach ?? , but the net O3 production decreased.\n",
    "This coincides with Table 1 which indicates the dominant role of dynamic during convection."
   ]
  }
 ],
 "metadata": {
  "interpreter": {
   "hash": "5c59143dddf9bb7cb19cf5c4e65abac3edd3adb579b9c354e95a8774ecff661b"
  },
  "kernelspec": {
   "display_name": "Python 3.9.7 64-bit ('base': conda)",
   "language": "python",
   "name": "python3"
  },
  "language_info": {
   "codemirror_mode": {
    "name": "ipython",
    "version": 3
   },
   "file_extension": ".py",
   "mimetype": "text/x-python",
   "name": "python",
   "nbconvert_exporter": "python",
   "pygments_lexer": "ipython3",
   "version": "3.9.7"
  },
  "orig_nbformat": 4
 },
 "nbformat": 4,
 "nbformat_minor": 2
}
