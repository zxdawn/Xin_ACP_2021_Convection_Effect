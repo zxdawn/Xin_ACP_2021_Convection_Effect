{
 "cells": [
  {
   "cell_type": "code",
   "execution_count": null,
   "metadata": {},
   "outputs": [],
   "source": [
    "import numpy as np\n",
    "import pandas as pd"
   ]
  },
  {
   "cell_type": "code",
   "execution_count": null,
   "metadata": {},
   "outputs": [],
   "source": [
    "!ls ../data/lightning"
   ]
  },
  {
   "cell_type": "markdown",
   "metadata": {},
   "source": [
    "# Read data"
   ]
  },
  {
   "cell_type": "markdown",
   "metadata": {},
   "source": [
    "## CNLDN"
   ]
  },
  {
   "cell_type": "code",
   "execution_count": null,
   "metadata": {},
   "outputs": [],
   "source": [
    "df_cnldn_2019 = pd.read_csv('../data/lightning/CNLDN_20190725.csv')"
   ]
  },
  {
   "cell_type": "code",
   "execution_count": null,
   "metadata": {},
   "outputs": [],
   "source": [
    "df_cnldn_2020 = pd.read_csv('../data/lightning/CNLDN_20200901_raw.csv')\n",
    "\n",
    "# rename for converting datetime\n",
    "df_cnldn_2020.rename(columns = {'Lon':'longitude', 'Lat':'latitude', 'Mon':'month', 'Min': 'minute', 'MSecond': 'ms'}, inplace = True)\n",
    "\n",
    "# set the correct format for ms\n",
    "df_cnldn_2020['ms'] *= 1e-4\n",
    "df_cnldn_2020['timestamp'] = pd.to_datetime(df_cnldn_2020.iloc[:, 2:-8], unit='ms')\n",
    "\n",
    "# drop useless columns\n",
    "keep_vars = ['longitude', 'latitude', 'timestamp']\n",
    "df_cnldn_2020 = df_cnldn_2020[keep_vars]\n",
    "df_cnldn_2020['type'] = 0"
   ]
  },
  {
   "cell_type": "markdown",
   "metadata": {},
   "source": [
    "## ENGLN"
   ]
  },
  {
   "cell_type": "code",
   "execution_count": null,
   "metadata": {},
   "outputs": [],
   "source": [
    "keep_vars = ['type', 'longitude', 'latitude', 'timestamp']\n",
    "df_engln_2019 = pd.read_csv('../data/lightning/ENGLN_20190725_raw.csv')\n",
    "df_engln_2019 = df_engln_2019[keep_vars]\n",
    "\n",
    "df_engln_2020 = pd.read_csv('../data/lightning/ENGLN_20200901_raw.csv')\n",
    "df_engln_2020 = df_engln_2020[keep_vars]"
   ]
  },
  {
   "cell_type": "markdown",
   "metadata": {},
   "source": [
    "## Save data"
   ]
  },
  {
   "cell_type": "code",
   "execution_count": null,
   "metadata": {},
   "outputs": [],
   "source": [
    "savedir = '../data/lightning/subset/'\n",
    "df_cnldn_2019.to_csv(f'{savedir}CNLDN_20190725.csv', index=False)\n",
    "df_cnldn_2020.to_csv(f'{savedir}CNLDN_20200901.csv', index=False)\n",
    "df_engln_2019.to_csv(f'{savedir}ENGLN_20190725.csv', index=False)\n",
    "df_engln_2020.to_csv(f'{savedir}ENGLN_20200901.csv', index=False)"
   ]
  },
  {
   "cell_type": "markdown",
   "metadata": {},
   "source": [
    "## Read exported data again"
   ]
  },
  {
   "cell_type": "code",
   "execution_count": null,
   "metadata": {},
   "outputs": [],
   "source": [
    "names = ['type', 'timestamp', 'latitude', 'longitude']\n",
    "types = ['int', 'str', 'float', 'float']\n",
    "dtypes = dict(zip(names, types))\n",
    "\n",
    "engln_2019 = pd.read_csv(f'{savedir}ENGLN_20190725.csv', delimiter=',', dtype=dtypes, parse_dates=['timestamp'], skipinitialspace=True)\n",
    "engln_2020 = pd.read_csv(f'{savedir}ENGLN_20200901.csv', delimiter=',', dtype=dtypes, parse_dates=['timestamp'], skipinitialspace=True)\n",
    "cnldn_2019 = pd.read_csv(f'{savedir}CNLDN_20190725.csv', delimiter=',', dtype=dtypes, parse_dates=['timestamp'], skipinitialspace=True)\n",
    "cnldn_2020 = pd.read_csv(f'{savedir}CNLDN_20200901.csv', delimiter=',', dtype=dtypes, parse_dates=['timestamp'], skipinitialspace=True)"
   ]
  },
  {
   "cell_type": "markdown",
   "metadata": {},
   "source": [
    "## Merging CNLDN and ENGLN"
   ]
  },
  {
   "cell_type": "code",
   "execution_count": null,
   "metadata": {},
   "outputs": [],
   "source": [
    "def haversine(lon1, lat1, lon2, lat2):\n",
    "    \"\"\"\n",
    "    Calculate the great circle distance between two points\n",
    "    on the earth (specified in decimal degrees)\n",
    "\n",
    "    All args must be of equal length.    \n",
    "\n",
    "    \"\"\"\n",
    "    lon1, lat1, lon2, lat2 = map(np.radians, [lon1, lat1, lon2, lat2])\n",
    "\n",
    "    dlon = lon2 - lon1\n",
    "    dlat = lat2 - lat1\n",
    "\n",
    "    a = np.sin(dlat/2.0)**2 + np.cos(lat1) * np.cos(lat2) * np.sin(dlon/2.0)**2\n",
    "\n",
    "    c = 2 * np.arcsin(np.sqrt(a))\n",
    "    km = 6367 * c\n",
    "\n",
    "    return km"
   ]
  },
  {
   "cell_type": "code",
   "execution_count": null,
   "metadata": {},
   "outputs": [],
   "source": [
    "def merge(cnldn, engln, dt, dx=10):\n",
    "    '''\n",
    "    Merge CNLDN and ENGLN data.\n",
    "    Duplicated condition: dx (10 km) and dt (0.5 or 1 s)\n",
    "    '''\n",
    "    for i in range(engln.shape[0]):\n",
    "        lat   = engln.iloc[i,:].latitude\n",
    "        lat_1 = lat - 0.5\n",
    "        lat_2 = lat + 0.5\n",
    "\n",
    "        lon   = engln.iloc[i,:].longitude\n",
    "        lon_1 = lon - 0.5\n",
    "        lon_2 = lon + 0.5\n",
    "\n",
    "        # narrow the range\n",
    "        mask_1 = (lon_1 < cnldn.longitude) & (cnldn.longitude < lon_2) & \\\n",
    "                    (lat_1 < cnldn.latitude) & (cnldn.latitude < lat_2)\n",
    "\n",
    "        # drop duplicated CG\n",
    "        mask_2 = (cnldn['timestamp'] >= engln.iloc[i,:]['timestamp'] - pd.Timedelta(seconds=dt)) & \\\n",
    "                    (cnldn['timestamp'] < engln.iloc[i,:]['timestamp'] + pd.Timedelta(seconds=dt))\n",
    "\n",
    "        if any(mask_1 & mask_2):\n",
    "            for index, row in cnldn[mask_1&mask_2].infer_objects().iterrows():\n",
    "                if haversine(row['longitude'], row['latitude'], lon, lat) <= dx:\n",
    "                    cnldn = cnldn.drop(index)\n",
    "#         break\n",
    "    return cnldn"
   ]
  },
  {
   "cell_type": "code",
   "execution_count": null,
   "metadata": {},
   "outputs": [],
   "source": [
    "cnldn_2019_clean = merge(cnldn_2019, engln_2019, 1)\n",
    "df_2019 = pd.concat([engln_2019, cnldn_2019_clean], ignore_index=True)"
   ]
  },
  {
   "cell_type": "code",
   "execution_count": null,
   "metadata": {},
   "outputs": [],
   "source": [
    "cnldn_2020_clean = merge(cnldn_2020, engln_2020, 0.5)\n",
    "df_2020 = pd.concat([engln_2020, cnldn_2020_clean], ignore_index=True)"
   ]
  },
  {
   "cell_type": "code",
   "execution_count": null,
   "metadata": {},
   "outputs": [],
   "source": [
    "df_2019.to_csv(f\"{savedir}LtgFlashPortions20190725.csv\", header=True, index=False)#, mode=\"a\")\n",
    "df_2020.to_csv(f\"{savedir}LtgFlashPortions20200901.csv\", header=True, index=False)#, mode=\"a\")"
   ]
  },
  {
   "cell_type": "code",
   "execution_count": null,
   "metadata": {},
   "outputs": [],
   "source": [
    "import proplot as plot\n",
    "\n",
    "fig, axs = plot.subplots(ncols=3)\n",
    "\n",
    "axs[0].scatter(cnldn_2019['longitude'], cnldn_2019['latitude'], size=1)\n",
    "axs[0].format(title='CNLDN')\n",
    "axs[1].scatter(engln_2019['longitude'], engln_2019['latitude'], size=1)\n",
    "axs[1].format(title='ENGLN')\n",
    "axs[2].scatter(df_2019['longitude'], df_2019['latitude'], size=1)\n",
    "axs[2].format(title='MERGED')\n",
    "\n",
    "axs.format(xlim=(118, 120), ylim=(31.5, 33.5), suptitle='2019-07-25')"
   ]
  },
  {
   "cell_type": "code",
   "execution_count": null,
   "metadata": {},
   "outputs": [],
   "source": [
    "import proplot as plot\n",
    "\n",
    "fig, axs = plot.subplots(ncols=3)\n",
    "\n",
    "axs[0].scatter(cnldn_2020['longitude'], cnldn_2020['latitude'], size=1)\n",
    "axs[0].format(title='CNLDN')\n",
    "axs[1].scatter(engln_2020['longitude'], engln_2020['latitude'], size=1)\n",
    "axs[1].format(title='ENGLN')\n",
    "axs[2].scatter(df_2020['longitude'], df_2020['latitude'], size=1)\n",
    "axs[2].format(title='MERGED')\n",
    "\n",
    "axs.format(xlim=(118, 120), ylim=(31.5, 33.5), suptitle='2020-09-01')"
   ]
  }
 ],
 "metadata": {
  "kernelspec": {
   "display_name": "Python 3",
   "language": "python",
   "name": "python3"
  },
  "language_info": {
   "codemirror_mode": {
    "name": "ipython",
    "version": 3
   },
   "file_extension": ".py",
   "mimetype": "text/x-python",
   "name": "python",
   "nbconvert_exporter": "python",
   "pygments_lexer": "ipython3",
   "version": "3.8.8"
  }
 },
 "nbformat": 4,
 "nbformat_minor": 4
}
