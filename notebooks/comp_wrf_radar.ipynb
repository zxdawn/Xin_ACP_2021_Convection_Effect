{
 "cells": [
  {
   "cell_type": "code",
   "execution_count": null,
   "metadata": {},
   "outputs": [],
   "source": [
    "import os, sys\n",
    "from glob import glob\n",
    "import numpy as np\n",
    "import xarray as xr\n",
    "import pandas as pd\n",
    "from glob import glob\n",
    "import proplot as plot\n",
    "import cartopy.crs as ccrs\n",
    "from netCDF4 import Dataset\n",
    "import matplotlib as mpl\n",
    "from datetime import datetime, timedelta\n",
    "from proplot.colors import LinearSegmentedColormap\n",
    "from wrf import (to_np, getvar, extract_vars, ALL_TIMES,\n",
    "                 CoordPair, vertcross, interplevel,\n",
    "                 omp_set_num_threads, omp_get_num_procs)\n",
    "from pycwr.core.transforms import geographic_to_cartesian_aeqd"
   ]
  },
  {
   "cell_type": "code",
   "execution_count": null,
   "metadata": {},
   "outputs": [],
   "source": [
    "# load personal functions\n",
    "sys.path.append('../scripts/')\n",
    "\n",
    "from radar import cnradar\n",
    "from xin_cartopy import load_province, add_grid\n",
    "# from wrfchem import read_wrf\n",
    "provinces  = load_province()\n",
    "\n",
    "# load cmaps\n",
    "pyart_dbz = LinearSegmentedColormap.from_file('../data/cmaps/pyart_dbz.json').reversed()"
   ]
  },
  {
   "cell_type": "markdown",
   "metadata": {},
   "source": [
    "## Pair radar data with wrfout* files"
   ]
  },
  {
   "cell_type": "markdown",
   "metadata": {},
   "source": [
    "### Set basic parameters"
   ]
  },
  {
   "cell_type": "code",
   "execution_count": null,
   "metadata": {},
   "outputs": [],
   "source": [
    "# date to plot the fig\n",
    "date = '20200901' # 20190725 or 20200901\n",
    "\n",
    "# basic info for both data\n",
    "radar_dir = f'../data/radar/{date}/'\n",
    "wrf_dir = f'../data/wrfchem/wrfout/{date}/lnox_500/'\n",
    "\n",
    "# offset to find the paired wrfout* files\n",
    "if date == '20190725':\n",
    "    offset = [timedelta(minutes=60)]*3 # minutes\n",
    "else:\n",
    "    offset = [timedelta(minutes=30)]*3 # minutes\n",
    "#     offset = [timedelta(minutes=30), timedelta(minutes=30), timedelta(minutes=60)] # minutes\n",
    "    \n",
    "if date == '20190725':\n",
    "    # picked radar times (HHMM)\n",
    "    times = ['0416', '0537', '0649']\n",
    "    # region for plot\n",
    "    extend = [118.5, 119.5, 31.5, 32.5]\n",
    "    # tick space\n",
    "    lon_d = 0.25; lat_d = 0.25\n",
    "\n",
    "    # start points and end points for crosslines\n",
    "    # crossline for comparing the vertical structure of convection\n",
    "#     a = [118.85, 31.92]\n",
    "#     b = [119.38, 32.37]\n",
    "    a = [118.85, 31.82]\n",
    "    b = [119.38, 32.27]\n",
    "\n",
    "    # crossline for checking o3\n",
    "    c = [118.95, 32.15]\n",
    "    d = [119.15, 31.85]\n",
    "\n",
    "    # rectangle for focused region of ozonesonde\n",
    "    rec_center = (119.025, 31.95)\n",
    "    rec_width = 0.15\n",
    "    rec_height = 0.04\n",
    "\n",
    "else:\n",
    "    times = ['0446', '0548', '0638']\n",
    "    extend = [118.2, 119.8, 31.2, 32.8]\n",
    "    lon_d = 0.5; lat_d = 0.5\n",
    "    a = [118.5, 31.93]\n",
    "    b = [119, 32.17]\n",
    "    c = [118.6, 32.1]\n",
    "    d = [119, 31.7]\n",
    "\n",
    "    rec_center = (118.7, 31.87)\n",
    "    rec_width = 0.15\n",
    "    rec_height = 0.1"
   ]
  },
  {
   "cell_type": "markdown",
   "metadata": {},
   "source": [
    "### Generate the time range"
   ]
  },
  {
   "cell_type": "markdown",
   "metadata": {},
   "source": [
    "### Generate the radar file list based on `times`"
   ]
  },
  {
   "cell_type": "code",
   "execution_count": null,
   "metadata": {},
   "outputs": [],
   "source": [
    "radar_files = [file for file in sorted(os.listdir(radar_dir)) if file.split('_')[4][8:12] in times]\n",
    "radar_files"
   ]
  },
  {
   "cell_type": "markdown",
   "metadata": {},
   "source": [
    "### Generate the paired time for wrfout* files"
   ]
  },
  {
   "cell_type": "code",
   "execution_count": null,
   "metadata": {},
   "outputs": [],
   "source": [
    "time_range = pd.to_datetime(sorted(['_'.join(file.split('_')[2:4])\n",
    "                                    for file in os.listdir(wrf_dir)\n",
    "                                    if file.startswith('wrfout')]),\n",
    "                            format='%Y-%m-%d_%H:%M:%S')\n",
    "\n",
    "wrf_time = []\n",
    "for index,radar_name in enumerate(radar_files):\n",
    "    radar_time = datetime.strptime(radar_name.split('_')[4], '%Y%m%d%H%M%S')\n",
    "    # https://stackoverflow.com/questions/42264848/\n",
    "    #      pandas-dataframe-how-to-query-the-closest-datetime-index\n",
    "    nearest_index = time_range.get_loc(radar_time, method='nearest')\n",
    "    wrf_time.append(time_range[nearest_index]-offset[index])"
   ]
  },
  {
   "cell_type": "markdown",
   "metadata": {},
   "source": [
    "## Read wrfout* files"
   ]
  },
  {
   "cell_type": "code",
   "execution_count": null,
   "metadata": {},
   "outputs": [],
   "source": [
    "wrf_files = [t.strftime(f'{wrf_dir}wrfout_*_%Y-%m-%d_%H:%M:%S*') for t in wrf_time]\n",
    "wrf_in = [Dataset(glob(x)[0]) for x in wrf_files]"
   ]
  },
  {
   "cell_type": "markdown",
   "metadata": {},
   "source": [
    "### Create cache"
   ]
  },
  {
   "cell_type": "code",
   "execution_count": null,
   "metadata": {},
   "outputs": [],
   "source": [
    "my_cache = extract_vars(wrf_in,\n",
    "                        ALL_TIMES,\n",
    "                        (\"T\", \"P\", \"PB\", \"QVAPOR\", \"QRAIN\")\n",
    "                        )   \n",
    "omp_set_num_threads(omp_get_num_procs())\n",
    "mdbz = getvar(wrf_in, 'mdbz', timeidx=ALL_TIMES, cache=my_cache)"
   ]
  },
  {
   "cell_type": "markdown",
   "metadata": {},
   "source": [
    "## Define the axis function"
   ]
  },
  {
   "cell_type": "code",
   "execution_count": null,
   "metadata": {},
   "outputs": [],
   "source": [
    "def set_axis(nrows=2, ncols=3):\n",
    "    '''set axis based on number of rows and cols'''\n",
    "    f, axs = plot.subplots(proj='eqc',\n",
    "                           nrows=nrows,\n",
    "                           ncols=ncols,\n",
    "                           span=3,\n",
    "                           share=3)\n",
    "\n",
    "    rowlabels = ['OBS', 'WRF-Chem']\n",
    "    collabels = ['Initiation', 'TROPOMI pass time', 'Ozonesonde reaching 10 km']\n",
    "\n",
    "    axs.format(rowlabels=rowlabels,\n",
    "               collabels=collabels,\n",
    "               dms=False,\n",
    "               abc=True,\n",
    "               abcloc='ul',\n",
    "               abcstyle='(a)',\n",
    "               #labels=True,\n",
    "               lonlines=lon_d,\n",
    "               latlines=lat_d,\n",
    "               lonlim=(extend[0], extend[1]),\n",
    "               latlim=(extend[2], extend[3]),\n",
    "               gridlinewidth=1,\n",
    "              )\n",
    "\n",
    "    axs[:, 0].format(latlabels=True)\n",
    "    axs[-1, :].format(lonlabels=True)\n",
    "\n",
    "    axs.add_feature(provinces, edgecolor='k', linewidth=.3)\n",
    "\n",
    "    return axs, f"
   ]
  },
  {
   "cell_type": "markdown",
   "metadata": {},
   "source": [
    "## Define function of plotting mdbz"
   ]
  },
  {
   "cell_type": "code",
   "execution_count": null,
   "metadata": {},
   "outputs": [],
   "source": [
    "def plot_data(axs, f, index,\n",
    "              radar, mdbz, levels):\n",
    "    '''plot mdbz for radar and wrfchem data at the same time'''\n",
    "    ax_index = index\n",
    "    ax = axs[ax_index]\n",
    "#     st = np.datetime_as_string(radar.st, unit='s')\n",
    "#     title = st.replace('T', ' ')\n",
    "\n",
    "    m = ax.contourf(radar.crf_lon,\n",
    "                    radar.crf_lat,\n",
    "                    radar.crf,\n",
    "                    cmap=pyart_dbz,\n",
    "                    levels=levels,\n",
    "                     )\n",
    "#     ax.format(title=title)#, share=3)\n",
    "    ax.format(title=(wrf_time[index]+offset[index]).strftime('%Y-%m-%d %H:%M'))\n",
    "\n",
    "    # bottom column for chem\n",
    "    ax = axs[ax_index+3]\n",
    "    m = ax.contourf(mdbz.coords['XLONG'],\n",
    "                    mdbz.coords['XLAT'],\n",
    "                    mdbz[index, :, :],\n",
    "                    cmap=pyart_dbz,\n",
    "                    levels=levels,\n",
    "                    )\n",
    "    ax.format(title=wrf_time[index].strftime('%Y-%m-%d %H:%M'))#, share=3)\n",
    "    #ax.format(title='', share=3)\n",
    "\n",
    "    return m"
   ]
  },
  {
   "cell_type": "markdown",
   "metadata": {},
   "source": [
    "## Define function of adding crossline"
   ]
  },
  {
   "cell_type": "code",
   "execution_count": null,
   "metadata": {},
   "outputs": [],
   "source": [
    "def add_crossline(spoint, epoint, stext, etext, axs):\n",
    "    '''Add crossline and texts'''\n",
    "    for ax in axs:\n",
    "        # add text annotation\n",
    "        ax.text(spoint[0]-0.05, spoint[1]-0.05, stext, transform=ccrs.PlateCarree(), fontweight='bold')\n",
    "        ax.text(epoint[0]+0.02, epoint[1]+0.02, etext, transform=ccrs.PlateCarree(), fontweight='bold')\n",
    "    \n",
    "        ax.plot(\n",
    "                 [spoint[0], epoint[0]],\n",
    "                 [spoint[1], epoint[1]],\n",
    "                 color='gray9',\n",
    "                 transform=ccrs.PlateCarree()\n",
    "                 )  "
   ]
  },
  {
   "cell_type": "code",
   "execution_count": null,
   "metadata": {},
   "outputs": [],
   "source": [
    "axs, f = set_axis()\n",
    "levels = np.linspace(0, 75, 16)\n",
    "for index,file in enumerate(radar_files):\n",
    "    radar = cnradar(radar_dir+file, extend=extend)\n",
    "    m = plot_data(axs, f, index, radar,\n",
    "                  mdbz, levels)\n",
    "\n",
    "# add colorbar\n",
    "f.colorbar(m, label='(dBZ)', loc='r', row=1, ticks=levels[::3])\n",
    "f.colorbar(m, label='(dBZ)', loc='r', row=2, ticks=levels[::3])\n",
    "\n",
    "# add arrows\n",
    "arrow_properties = dict(\n",
    "    facecolor='white',\n",
    "    edgecolor='white',\n",
    "    width=0.5,\n",
    "    headwidth=4, shrink=0.1)\n",
    "\n",
    "# # add arrow for target\n",
    "# axs[1].annotate('', xy=(118.8, 32),\n",
    "#                 xytext=(118.9, 31.85),\n",
    "#                 arrowprops=arrow_properties,\n",
    "#                 color='white'\n",
    "#                 )\n",
    "\n",
    "# add crosssection line (AB)\n",
    "stext = 'A'\n",
    "etext = 'B'\n",
    "add_axs = [axs[1], axs[4]]\n",
    "add_crossline(a, b, stext, etext, add_axs)\n",
    "\n",
    "\n",
    "## add crosssection line (CD)\n",
    "# check the active area in specific region (south)\n",
    "\n",
    "stext = 'C' \n",
    "etext = 'D' \n",
    "if date =='20190725':\n",
    "    add_crossline(c, d, stext, etext, [axs[4]])\n",
    "elif date == '20200901':\n",
    "    add_crossline(c, d, stext, etext, [axs[4]])\n",
    "#     add_crossline(c, d, stext, etext, [axs[5]])\n",
    "\n",
    "# add rectangle for focused region of ozonesonde\n",
    "axs[5].add_patch(mpl.patches.Rectangle(rec_center,\n",
    "                                       rec_width,\n",
    "                                       rec_height,\n",
    "                                       fill=None,\n",
    "                                       edgecolor='black'))\n",
    "\n",
    "# save figure\n",
    "f.savefig(f'../figures/comp_crf_{date[:4]}.jpg')"
   ]
  },
  {
   "cell_type": "markdown",
   "metadata": {},
   "source": [
    "## Plot cross section"
   ]
  },
  {
   "cell_type": "markdown",
   "metadata": {},
   "source": [
    "### Read specific data for cross section"
   ]
  },
  {
   "cell_type": "code",
   "execution_count": null,
   "metadata": {},
   "outputs": [],
   "source": [
    "radar_cross = cnradar(radar_dir+radar_files[1], extend=extend)\n",
    "wrf_cross = Dataset(glob(wrf_files[1])[0])\n",
    "glob(wrf_files[1])[0]"
   ]
  },
  {
   "cell_type": "code",
   "execution_count": null,
   "metadata": {},
   "outputs": [],
   "source": [
    "# get height and dbz variables\n",
    "z = getvar(wrf_cross, 'z', units='km')\n",
    "dbz = getvar(wrf_cross, \"dbz\")\n",
    "Z = 10**(dbz/10.)"
   ]
  },
  {
   "cell_type": "markdown",
   "metadata": {},
   "source": [
    "### Interpolate wrf data to heights and crossline"
   ]
  },
  {
   "cell_type": "code",
   "execution_count": null,
   "metadata": {},
   "outputs": [],
   "source": [
    "z_levels = np.linspace(0, 15, 61)\n",
    "z_cross = vertcross(Z, z, wrfin=wrf_cross,\n",
    "                    levels = z_levels,\n",
    "                    start_point=CoordPair(lon=a[0], lat=a[1]),\n",
    "                    end_point=CoordPair(lon=b[0], lat=b[1]),\n",
    "                    latlon=True, meta=True)\n",
    "dbz_cross = 10.0 * np.log10(z_cross)"
   ]
  },
  {
   "cell_type": "markdown",
   "metadata": {},
   "source": [
    "### Interpolate radar data"
   ]
  },
  {
   "cell_type": "code",
   "execution_count": null,
   "metadata": {},
   "outputs": [],
   "source": [
    "lon_0 = radar.radar.scan_info.longitude.values\n",
    "lat_0 = radar.radar.scan_info.latitude.values\n",
    "start_x, start_y = geographic_to_cartesian_aeqd(lat=a[1],\n",
    "                                                lon=a[0],\n",
    "                                                lat_0=lat_0,\n",
    "                                                lon_0=lon_0)\n",
    "end_x, end_y = geographic_to_cartesian_aeqd(lat=b[1],\n",
    "                                            lon=b[0],\n",
    "                                            lat_0=lat_0,\n",
    "                                            lon_0=lon_0)\n",
    "\n",
    "mesh_xy, mesh_z, field_data = radar_cross.radar.get_vcs_data((start_x[0], start_y[0]),\n",
    "                                                             (end_x[0], end_y[0]),\n",
    "                                                             'dBZ')"
   ]
  },
  {
   "cell_type": "markdown",
   "metadata": {},
   "source": [
    "## Plot data"
   ]
  },
  {
   "cell_type": "code",
   "execution_count": null,
   "metadata": {},
   "outputs": [],
   "source": [
    "f, axs = plot.subplots(ncols=2, share=0)\n",
    "axs.format(grid=False)\n",
    "\n",
    "levels = np.linspace(0, 75, 16)\n",
    "\n",
    "# --- WRF part ---\n",
    "ax = axs[0]\n",
    "dbz_contours = ax.contourf(dbz_cross.cross_line_idx,\n",
    "                           dbz_cross.vertical,\n",
    "                           to_np(dbz_cross),\n",
    "                           cmap=pyart_dbz,\n",
    "                           levels=levels,\n",
    "                           )\n",
    "ax.format(ylabel='Altitude (km)')\n",
    "\n",
    "# --- Radar part ---\n",
    "ax = axs[1]\n",
    "for isweep, _ in enumerate(mesh_xy):\n",
    "    gci = ax.pcolormesh(mesh_xy[isweep] / 1000.,\n",
    "                        mesh_z[isweep] / 1000.,\n",
    "                        field_data[isweep],\n",
    "                        cmap=pyart_dbz,\n",
    "                        levels=levels)\n",
    "\n",
    "# ax.format(ylim=(0, 12), yticks=plot.arange(0, 12, 2))\n",
    "axs.format(xlocator='null',\n",
    "           xlabel='',\n",
    "           ylim=(0, 12),\n",
    "           yticks=plot.arange(0, 12, 2),\n",
    "           abc=True,\n",
    "           abcloc='ul',\n",
    "           abcstyle='(a)',\n",
    "           collabels=['WRF-Chem', 'Radar']\n",
    "           )\n",
    "\n",
    "# add annotation\n",
    "for ax in axs:\n",
    "    ax.text(0, -0.05,\n",
    "            'A',\n",
    "            transform=ax.transAxes)\n",
    "\n",
    "    ax.text(0.95, -0.05,\n",
    "            'B',\n",
    "            transform=ax.transAxes)\n",
    "\n",
    "# add colorbar\n",
    "f.colorbar(gci,\n",
    "           loc='r',\n",
    "           label='(dBZ)',\n",
    "           ticks=levels[::3]\n",
    "           )\n",
    "\n",
    "# save figure\n",
    "f.savefig(f'../figures/comp_dbzcross_{date[:4]}.jpg')"
   ]
  }
 ],
 "metadata": {
  "kernelspec": {
   "display_name": "Python 3",
   "language": "python",
   "name": "python3"
  },
  "language_info": {
   "codemirror_mode": {
    "name": "ipython",
    "version": 3
   },
   "file_extension": ".py",
   "mimetype": "text/x-python",
   "name": "python",
   "nbconvert_exporter": "python",
   "pygments_lexer": "ipython3",
   "version": "3.8.8"
  }
 },
 "nbformat": 4,
 "nbformat_minor": 4
}
