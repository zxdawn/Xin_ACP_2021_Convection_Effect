{
 "cells": [
  {
   "cell_type": "code",
   "execution_count": null,
   "metadata": {},
   "outputs": [],
   "source": [
    "import numpy as np\n",
    "import pandas as pd\n",
    "from glob import glob\n",
    "import proplot as plot\n",
    "import cartopy.crs as ccrs\n",
    "from satpy.scene import Scene"
   ]
  },
  {
   "cell_type": "code",
   "execution_count": null,
   "metadata": {},
   "outputs": [],
   "source": [
    "import warnings\n",
    "warnings.simplefilter(\"ignore\", UserWarning)\n",
    "warnings.simplefilter(\"ignore\", RuntimeWarning)"
   ]
  },
  {
   "cell_type": "code",
   "execution_count": null,
   "metadata": {},
   "outputs": [],
   "source": [
    "# set data dir\n",
    "s5p_dir = '../data/tropomi/'\n",
    "fy4a_dir = '../data/fy4a/'\n",
    "sonde_dir = '../data/ozonesondes/data/'"
   ]
  },
  {
   "cell_type": "code",
   "execution_count": null,
   "metadata": {},
   "outputs": [],
   "source": [
    "# set data\n",
    "f_s5p_1 = s5p_dir + 'S5P_TEST_L2__NO2____20190725*'\n",
    "f_s5p_2 = s5p_dir + 'S5P_TEST_L2__NO2____20200901*'\n",
    "\n",
    "f_fy4a_1 = fy4a_dir + 'FY4A-_AGRI--_N_*NOM_201907250700*0500M_V0001.HDF'\n",
    "f_fy4a_2 = fy4a_dir + 'FY4A-_AGRI--_N_*NOM_202009010638*0500M_V0001.HDF'\n",
    "\n",
    "sonde_1 = sonde_dir + '20190725/20190723_0529.csv'\n",
    "sonde_2 = sonde_dir + '20190725/20190725_0634.csv'\n",
    "sonde_3 = sonde_dir + '20200901/20200831_234453.csv'\n",
    "sonde_4 = sonde_dir + '20200901/20200901_054434.csv'"
   ]
  },
  {
   "cell_type": "code",
   "execution_count": null,
   "metadata": {},
   "outputs": [],
   "source": [
    "# set plot region\n",
    "extend = [118, 120, 31.2, 32.8]\n",
    "lon_d = 0.5; lat_d = 0.5"
   ]
  },
  {
   "cell_type": "code",
   "execution_count": null,
   "metadata": {},
   "outputs": [],
   "source": [
    "def load_s5p(f_s5p):\n",
    "    '''load s5p data'''\n",
    "    scn = Scene(glob(f_s5p), reader='tropomi_l2')\n",
    "    \n",
    "    # useful vars\n",
    "    vnames = ['latitude', 'longitude',\n",
    "              'assembled_lat_bounds', 'assembled_lon_bounds',\n",
    "              'cloud_radiance_fraction_nitrogendioxide_window',\n",
    "              'time_utc']\n",
    "\n",
    "    # load directly by satpy\n",
    "    scn.load(vnames)\n",
    "\n",
    "    # get vars\n",
    "    lat = scn[vnames[0]]\n",
    "    lon = scn[vnames[1]]\n",
    "    lat_bnd = scn[vnames[2]]\n",
    "    lon_bnd = scn[vnames[3]]\n",
    "    crf = scn[vnames[4]]\n",
    "    t   = scn[vnames[5]]\n",
    "\n",
    "    return lat, lon, lat_bnd, lon_bnd, crf, t"
   ]
  },
  {
   "cell_type": "code",
   "execution_count": null,
   "metadata": {},
   "outputs": [],
   "source": [
    "def load_fy4a(f_fy4a, extend):\n",
    "    '''load fy4a data'''\n",
    "    scn = Scene(glob(f_fy4a), reader='agri_l1')\n",
    "    \n",
    "    # load VIS channel\n",
    "    scn.load(['C02'])\n",
    "\n",
    "    # crop to interested region\n",
    "    ll_bbox = (extend[0], extend[2], extend[1], extend[3])\n",
    "    scn = scn.crop(ll_bbox=ll_bbox)\n",
    "\n",
    "    # get lon and lat from scene\n",
    "    img = scn['C02']\n",
    "    lon, lat = img.attrs['area'].get_lonlats()\n",
    "\n",
    "    return lat, lon, img\n",
    "\n",
    "def plot_img(lat, lon, img, ax):\n",
    "    '''plot the C02 image'''\n",
    "    m = ax.pcolormesh(lon, lat, img,\n",
    "                      transform=ccrs.PlateCarree(),\n",
    "                      cmap=plot.Colormap('Greys_r', left=0.15, right=1),\n",
    "                      levels=256, vmin=0, vmax=100)"
   ]
  },
  {
   "cell_type": "code",
   "execution_count": null,
   "metadata": {},
   "outputs": [],
   "source": [
    "def plot_swath(lat, lon, lat_bnd, lon_bnd, crf, ax):\n",
    "    '''plot the s5p swath (edge)'''\n",
    "    subset = (lon>=extend[0]) & (lon<=extend[1]) & (lat>extend[2]) & (lat<extend[3])\n",
    "    crf_subset = crf.where(subset)\n",
    "    subset_scanline = crf_subset.notnull().any(axis=1)\n",
    "    # calculate passtime\n",
    "    pass_time = pd.to_datetime(t[subset_scanline].load()).mean()\n",
    "    print(f'TROPOMI passing time: {pass_time}')\n",
    "    \n",
    "    # create zero array for nonfill\n",
    "    crf_empty = crf.where(np.full(crf.shape, 0))\n",
    "    ax.pcolormesh(lon_bnd, lat_bnd, crf_empty,\n",
    "                  edgecolors='yellow2', lw=0.5, alpha=0.1)"
   ]
  },
  {
   "cell_type": "code",
   "execution_count": null,
   "metadata": {},
   "outputs": [],
   "source": [
    "def plot_sonde(df, mode, ax):\n",
    "    '''plot the ozonesonde trajectory'''\n",
    "    if mode == 'preconv':\n",
    "        color = 'light blue'\n",
    "        label = 'Pre conv.'\n",
    "    elif mode == 'periconv':\n",
    "        color = 'light red'\n",
    "        label = 'During conv.'\n",
    "    elif mode == 'postconv':\n",
    "        color = 'light red'\n",
    "        label = 'Post conv.'\n",
    "\n",
    "    s = ax.scatter(df['Lon'], df['Lat'],\n",
    "                   marker='.',\n",
    "                   edgecolors=None,\n",
    "                   facecolors=color,\n",
    "                   transform=ccrs.PlateCarree(),\n",
    "                   label=label,\n",
    "                   s=5)\n",
    "\n",
    "    return s"
   ]
  },
  {
   "cell_type": "markdown",
   "metadata": {},
   "source": [
    "## Load data (20190725)"
   ]
  },
  {
   "cell_type": "code",
   "execution_count": null,
   "metadata": {},
   "outputs": [],
   "source": [
    "lat_s5p, lon_s5p, lat_bnd, lon_bnd, crf, t = load_s5p(f_s5p_1)\n",
    "lat_fy4a, lon_fy4a, img = load_fy4a(f_fy4a_1, extend)\n",
    "df_1 = pd.read_csv(sonde_1)\n",
    "df_2 = pd.read_csv(sonde_2)"
   ]
  },
  {
   "cell_type": "markdown",
   "metadata": {},
   "source": [
    "## Plot 20190725 data first"
   ]
  },
  {
   "cell_type": "code",
   "execution_count": null,
   "metadata": {},
   "outputs": [],
   "source": [
    "fig, axs = plot.subplots(proj='pcarree', ncols=2, spany=3, sharey=3)\n",
    "\n",
    "axs.format(lonlim=(extend[0], extend[1]),\n",
    "           latlim=(extend[2], extend[3]),\n",
    "           labels=True,\n",
    "           dms=False,\n",
    "           lonlines=lon_d,\n",
    "           latlines=lat_d,\n",
    "           gridlinewidth=0.5,\n",
    "           gridcolor='w',\n",
    "           gridlabelcolor='k')\n",
    "axs[1].format(latlabels=False)\n",
    "\n",
    "# plot 20190725 data\n",
    "ax = axs[0]\n",
    "plot_img(lat_fy4a, lon_fy4a, img, ax)\n",
    "plot_swath(lat_s5p, lon_s5p, lat_bnd, lon_bnd, crf, ax)\n",
    "legend_1 = plot_sonde(df_1, 'preconv', ax)\n",
    "legend_2 = plot_sonde(df_2, 'postconv', ax)\n",
    "\n",
    "ax.legend([legend_1, legend_2], loc='lr', ncols=1, markerscale=2)\n",
    "ax.format(title='2019-07-25 07:00 (UTC)')"
   ]
  },
  {
   "cell_type": "markdown",
   "metadata": {},
   "source": [
    "## Load 20200901 data"
   ]
  },
  {
   "cell_type": "code",
   "execution_count": null,
   "metadata": {},
   "outputs": [],
   "source": [
    "lat_s5p, lon_s5p, lat_bnd, lon_bnd, crf, t = load_s5p(f_s5p_2)\n",
    "lat_fy4a, lon_fy4a, img = load_fy4a(f_fy4a_2, extend)\n",
    "df_3 = pd.read_csv(sonde_3)\n",
    "df_4 = pd.read_csv(sonde_4)"
   ]
  },
  {
   "cell_type": "markdown",
   "metadata": {},
   "source": [
    "## Plot 20200901 data"
   ]
  },
  {
   "cell_type": "code",
   "execution_count": null,
   "metadata": {},
   "outputs": [],
   "source": [
    "ax = axs[1]\n",
    "plot_img(lat_fy4a, lon_fy4a, img, ax)\n",
    "plot_swath(lat_s5p, lon_s5p, lat_bnd, lon_bnd, crf, ax)\n",
    "legend_3 = plot_sonde(df_3, 'preconv', ax)\n",
    "legend_4 = plot_sonde(df_4, 'periconv', ax)\n",
    "ax.legend([legend_3, legend_4], loc='lr', ncols=1, markerscale=2)\n",
    "ax.format(title='2020-09-01 06:40 (UTC)')"
   ]
  },
  {
   "cell_type": "markdown",
   "metadata": {},
   "source": [
    "## Plot station"
   ]
  },
  {
   "cell_type": "code",
   "execution_count": null,
   "metadata": {},
   "outputs": [],
   "source": [
    "# plot station\n",
    "axs.scatter(118.9, 31.93,\n",
    "            marker='*', c='w', s=5,\n",
    "            transform=ccrs.PlateCarree())"
   ]
  },
  {
   "cell_type": "markdown",
   "metadata": {},
   "source": [
    "## Format axis"
   ]
  },
  {
   "cell_type": "code",
   "execution_count": null,
   "metadata": {},
   "outputs": [],
   "source": [
    "# axs.format(abc=True,\n",
    "#            abcloc='l',\n",
    "#            abcstyle='(a)')\n",
    "\n",
    "fig.savefig('../figures/overview.png')\n",
    "fig"
   ]
  }
 ],
 "metadata": {
  "kernelspec": {
   "display_name": "Python 3",
   "language": "python",
   "name": "python3"
  },
  "language_info": {
   "codemirror_mode": {
    "name": "ipython",
    "version": 3
   },
   "file_extension": ".py",
   "mimetype": "text/x-python",
   "name": "python",
   "nbconvert_exporter": "python",
   "pygments_lexer": "ipython3",
   "version": "3.8.6"
  }
 },
 "nbformat": 4,
 "nbformat_minor": 4
}
