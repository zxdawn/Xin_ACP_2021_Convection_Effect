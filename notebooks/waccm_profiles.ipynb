{
 "cells": [
  {
   "cell_type": "markdown",
   "metadata": {},
   "source": [
    "As we didn't launch the ozonesonde before the **2019** convection case successfully, we have to compare the O3 profiles focasted by WACCM.\n",
    "\n",
    "If the forcast O3 profile has the same trend but not the large difference detected by ozonesondes, the convective effect is shown. "
   ]
  },
  {
   "cell_type": "code",
   "execution_count": null,
   "metadata": {},
   "outputs": [],
   "source": [
    "import numpy as np\n",
    "import xarray as xr\n",
    "import pandas as pd\n",
    "import proplot as plot\n",
    "from datetime import timedelta"
   ]
  },
  {
   "cell_type": "markdown",
   "metadata": {},
   "source": [
    "## Set basic parameters"
   ]
  },
  {
   "cell_type": "code",
   "execution_count": null,
   "metadata": {},
   "outputs": [],
   "source": [
    "f_waccm = '../data/reanalysis/waccm/waccm-20190723.nc'\n",
    "# set the region same as that comp_wrf_radar.ipynb\n",
    "extend = [118.5, 119.5, 31.5, 32.5]\n",
    "t1 = '2019-07-23 06:00'\n",
    "t2 = '2019-07-25 06:00'"
   ]
  },
  {
   "cell_type": "markdown",
   "metadata": {},
   "source": [
    "## Read data"
   ]
  },
  {
   "cell_type": "code",
   "execution_count": null,
   "metadata": {},
   "outputs": [],
   "source": [
    "ds = xr.open_dataset(f_waccm)\n",
    "ds"
   ]
  },
  {
   "cell_type": "markdown",
   "metadata": {},
   "source": [
    "Because there's bug in the waccm time coordinate, we have to set it manually."
   ]
  },
  {
   "cell_type": "code",
   "execution_count": null,
   "metadata": {},
   "outputs": [],
   "source": [
    "t = ds['date'].drop_vars('time')\n",
    "sec = ds['datesec'].drop_vars('time')\n",
    "o3 = ds['O3'].drop_vars('time')\n",
    "\n",
    "# calculate datetime and assign to coords\n",
    "date = pd.to_datetime(t.astype(str), format='%Y%m%d') + pd.to_timedelta(sec.values, unit='s')"
   ]
  },
  {
   "cell_type": "markdown",
   "metadata": {},
   "source": [
    "## Calculate the mean O3 profile in the interested region"
   ]
  },
  {
   "cell_type": "code",
   "execution_count": null,
   "metadata": {},
   "outputs": [],
   "source": [
    "# calculate the regional mean value\n",
    "mask = (o3.lon > extend[0]) & (o3.lon < extend[1]) & (o3.lat > extend[2]) & (o3.lat < extend[3])\n",
    "o3 = o3.where(mask).mean(dim=['lat', 'lon']) * 1e9  # ppbv\n",
    "#o3 = o3.where(mask).mean(dim=['lat', 'lon']) * 1e12  # pptv\n",
    "o3.attrs['units'] = 'ppbv'\n",
    "\n",
    "# assign the time coordinate\n",
    "o3 = o3.assign_coords({'time': date})\n",
    "\n",
    "# subset to two datetime\n",
    "times = xr.DataArray(pd.to_datetime([t1, t2]), dims='time')\n",
    "o3 = o3.sel(time=times)"
   ]
  },
  {
   "cell_type": "markdown",
   "metadata": {},
   "source": [
    "## Plot O3 profiles"
   ]
  },
  {
   "cell_type": "code",
   "execution_count": null,
   "metadata": {},
   "outputs": [],
   "source": [
    "fig, axs = plot.subplots(ncols=2, sharey=3, sharex=0)\n",
    "\n",
    "\n",
    "ax = axs[0]\n",
    "legend_labels = []\n",
    "for t in o3.coords['time']:\n",
    "    data = o3.sel(time=t)\n",
    "    ts = pd.to_datetime(str(data.coords['time'].values))\n",
    "    label = ts.strftime('%Y-%m-%d %H:%M (UTC)')\n",
    "    legend_labels.append(label)\n",
    "    m = ax.plot(data, data.coords['lev'])\n",
    "\n",
    "\n",
    "handles, _ = ax.get_legend_handles_labels()\n",
    "ax.legend(handles, legend_labels, loc='lr', ncols=1)\n",
    "\n",
    "ax = axs[1]\n",
    "diff = o3.diff('time').isel(time=0)/o3.isel(time=0) * 1e2\n",
    "ax.plot(diff, diff.coords['lev'], color='k')\n",
    "\n",
    "axs[0].format(ylabel='Pressure (hPa)',\n",
    "              xlabel='O$_3$ (ppbv)',\n",
    "              xlim=(0, 300),\n",
    "              )\n",
    "\n",
    "axs[1].format(ylabel='Pressure (hPa)',\n",
    "              xlabel='%$\\Delta$  O$_3$',\n",
    "              )\n",
    "axs.format(ylim=(800, 100),\n",
    "           abc=True,\n",
    "           abcloc='ul',\n",
    "           abcstyle='(a)',\n",
    "           suptitle='WACCM Chemical Forcast',\n",
    "           )\n",
    "\n",
    "fig.savefig('../figures/waccm_profiles.pdf')"
   ]
  }
 ],
 "metadata": {
  "kernelspec": {
   "display_name": "Python 3",
   "language": "python",
   "name": "python3"
  },
  "language_info": {
   "codemirror_mode": {
    "name": "ipython",
    "version": 3
   },
   "file_extension": ".py",
   "mimetype": "text/x-python",
   "name": "python",
   "nbconvert_exporter": "python",
   "pygments_lexer": "ipython3",
   "version": "3.8.6"
  }
 },
 "nbformat": 4,
 "nbformat_minor": 4
}
