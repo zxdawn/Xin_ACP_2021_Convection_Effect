{
 "cells": [
  {
   "cell_type": "code",
   "execution_count": null,
   "metadata": {},
   "outputs": [],
   "source": [
    "import matplotlib\n",
    "import numpy as np\n",
    "import xarray as xr\n",
    "import pandas as pd\n",
    "import hvplot.xarray\n",
    "from glob import glob\n",
    "import proplot as plot\n",
    "from wrf import getvar, to_np, latlon_coords, interplevel\n",
    "import rioxarray\n",
    "\n",
    "import sys\n",
    "sys.path.append('../scripts/')\n",
    "from xin_cartopy import load_province"
   ]
  },
  {
   "cell_type": "markdown",
   "metadata": {},
   "source": [
    "# Read lightning data"
   ]
  },
  {
   "cell_type": "code",
   "execution_count": null,
   "metadata": {},
   "outputs": [],
   "source": [
    "# flash_dir = '../data/lightning/'\n",
    "# f_ltng = flash_dir + 'ENGLN_20200901.csv'\n",
    "flash_dir = '../data/lightning/subset/'\n",
    "f_ltng = flash_dir + 'LtgFlashPortions20200901.csv'\n",
    "ltng = pd.read_csv(f_ltng)\n",
    "\n",
    "# set tropomi passing time (output from plot_ir_swath_traj.py)\n",
    "pass_t = pd.to_datetime('2020-09-01 05:46')\n",
    "begin_t = -180  # minutes before the TROPOMI passes\n",
    "end_t = 0\n",
    "\n",
    "delta = pd.to_datetime(ltng['timestamp']) - pass_t\n",
    "ltng['delta'] = delta.dt.total_seconds()/60\n",
    "subset = (begin_t < ltng['delta'])& (ltng['delta'] < end_t)\n",
    "ltng = ltng[subset]"
   ]
  },
  {
   "cell_type": "markdown",
   "metadata": {},
   "source": [
    "# Read TROPOMI data"
   ]
  },
  {
   "cell_type": "code",
   "execution_count": null,
   "metadata": {},
   "outputs": [],
   "source": [
    "ds = xr.open_dataset('../data/s5p_chem/tm5/S5P_TM5_L2__NO2____20200901T044949_20200901T063118_14951_01_020100_20200922T083249.nc', group='S5P')\n",
    "\n",
    "ds_tm5 = xr.open_dataset('../data/s5p_chem/tm5/S5P_TM5_L2__NO2____20200901T044949_20200901T063118_14951_01_020100_20200922T083249.nc', group='TM5')\n",
    "\n",
    "ds_lnox = xr.open_dataset('../data/s5p_chem/lnox_500/S5P_CHEM_L2__NO2____20200901T044949_20200901T063118_14951_01_020100_20200922T083249.nc', group='CHEM')\n",
    "ds_lnox_low = xr.open_dataset('../data/s5p_chem/lnox_330/S5P_CHEM_L2__NO2____20200901T044949_20200901T063118_14951_01_020100_20200922T083249.nc', group='CHEM')\n",
    "ds_lnox_high = xr.open_dataset('../data/s5p_chem/lnox_700/S5P_CHEM_L2__NO2____20200901T044949_20200901T063118_14951_01_020100_20200922T083249.nc', group='CHEM')\n",
    "\n",
    "ds_nolnox = xr.open_dataset('../data/s5p_chem/nolnox/S5P_CHEM_L2__NO2____20200901T044949_20200901T063118_14951_01_020100_20200922T083249.nc', group='CHEM')"
   ]
  },
  {
   "cell_type": "markdown",
   "metadata": {},
   "source": [
    "Pick good or fair pixels:"
   ]
  },
  {
   "cell_type": "code",
   "execution_count": null,
   "metadata": {},
   "outputs": [],
   "source": [
    "ds_tm5 = ds_tm5.where(ds['no2_scd_flag']==0)\n",
    "ds_lnox = ds_lnox.where(ds['no2_scd_flag']==0)\n",
    "ds_lnox_low = ds_lnox_low.where(ds['no2_scd_flag']==0)\n",
    "ds_lnox_high = ds_lnox_high.where(ds['no2_scd_flag']==0)\n",
    "ds_nolnox = ds_nolnox.where(ds['no2_scd_flag']==0)"
   ]
  },
  {
   "cell_type": "code",
   "execution_count": null,
   "metadata": {},
   "outputs": [],
   "source": [
    "ds"
   ]
  },
  {
   "cell_type": "markdown",
   "metadata": {},
   "source": [
    "## Calculation of AMFs and VCDs"
   ]
  },
  {
   "cell_type": "code",
   "execution_count": null,
   "metadata": {},
   "outputs": [],
   "source": [
    "amf = ds_lnox['scdClr']/ds_lnox['vcdGnd']*(1-ds['cloud_radiance_fraction_nitrogendioxide_window']) + ds_lnox['scdCld']/ds_lnox['vcdGnd']*ds['cloud_radiance_fraction_nitrogendioxide_window']\n",
    "diff = amf - ds_lnox['amfTrop']"
   ]
  },
  {
   "cell_type": "code",
   "execution_count": null,
   "metadata": {},
   "outputs": [],
   "source": [
    "amfTrop = ds_lnox['amfTrop']\n",
    "vcdGnd_lnox = ds_lnox['vcdGnd']\n",
    "vcdLno2 = ds_lnox['vcdGnd'] - ds_nolnox['vcdGnd']\n",
    "vcdLno = ds_lnox['vcdGnd_no'] - ds_nolnox['vcdGnd_no']"
   ]
  },
  {
   "cell_type": "code",
   "execution_count": null,
   "metadata": {},
   "outputs": [],
   "source": [
    "amf_lno2 = amfTrop * vcdGnd_lnox / vcdLno2\n",
    "amf_lnox = amfTrop * vcdGnd_lnox / (vcdLno2 + vcdLno)\n",
    "\n",
    "# this method below could lead to more missing data\n",
    "# scdTrop = ds['nitrogendioxide_tropospheric_column'] * ds['air_mass_factor_troposphere']\n",
    "# try this one\n",
    "scdTrop = ds['nitrogendioxide_slant_column_density'] - ds['nitrogendioxide_stratospheric_column'] * ds['air_mass_factor_stratosphere']\n",
    "\n",
    "lno2Trop = scdTrop/amf_lno2\n",
    "lnoxTrop = scdTrop/amf_lnox"
   ]
  },
  {
   "cell_type": "markdown",
   "metadata": {},
   "source": [
    "# Quickview of LNO$_2$ and LNO$_x$"
   ]
  },
  {
   "cell_type": "code",
   "execution_count": null,
   "metadata": {},
   "outputs": [],
   "source": [
    "xlim=(370, 415); ylim=(250, 310)\n",
    "lnoxTrop.plot(xlim=xlim, ylim=ylim, vmin=0, vmax=0.002)"
   ]
  },
  {
   "cell_type": "code",
   "execution_count": null,
   "metadata": {},
   "outputs": [],
   "source": [
    "lno2Trop.plot(xlim=xlim, ylim=ylim,  vmin=0, vmax=0.002)"
   ]
  },
  {
   "cell_type": "markdown",
   "metadata": {},
   "source": [
    "# Comparisons of different NO$_2$Trop products"
   ]
  },
  {
   "cell_type": "code",
   "execution_count": null,
   "metadata": {},
   "outputs": [],
   "source": [
    "fig, axs = plot.subplots(axwidth=4, proj='pcarree',\n",
    "                         ncols=2, nrows=2, sharey=3)\n",
    "\n",
    "extend = [118.2, 119.7, 31.5, 32.8]\n",
    "lon_d = 0.5; lat_d = 0.5\n",
    "vmin = -1.5; vmax=1.5\n",
    "cmap = 'Balance' # vik\n",
    "\n",
    "# --- subplot 0 ---\n",
    "ax = axs[0]\n",
    "m = ax.pcolormesh(ds['assembled_lon_bounds'],\n",
    "                   ds['assembled_lat_bounds'],\n",
    "                   6.02214e3*(ds_lnox['no2Trop'] - ds_tm5['no2Trop']),\n",
    "                   vmin=vmin,\n",
    "                   vmax=vmax,\n",
    "                   levels=256,\n",
    "                   cmap=cmap)\n",
    "ax.format(title='300 mol/flash vs. TM5-MP')\n",
    "\n",
    "# --- subplot 1 ---\n",
    "ax = axs[1]\n",
    "m = ax.pcolormesh(ds['assembled_lon_bounds'],\n",
    "                   ds['assembled_lat_bounds'],\n",
    "                   6.02214e3*(ds_nolnox['no2Trop'] - ds_tm5['no2Trop']),\n",
    "                   vmin=vmin,\n",
    "                   vmax=vmax,\n",
    "                   levels=256,\n",
    "                   cmap=cmap)\n",
    "ax.format(title='0 mol/flash vs. TM5-MP')\n",
    "\n",
    "# --- subplot 2 ---\n",
    "ax = axs[2]\n",
    "m = ax.pcolormesh(ds['assembled_lon_bounds'],\n",
    "                   ds['assembled_lat_bounds'],\n",
    "                   6.02214e3*(ds_lnox['no2Trop'] - ds_nolnox['no2Trop']),\n",
    "                   vmin=vmin,\n",
    "                   vmax=vmax,\n",
    "                   levels=256,\n",
    "                   cmap=cmap)\n",
    "ax.format(title='300 mol/flash vs. 0 mol/flash')\n",
    "\n",
    "# --- lightning scatter ---\n",
    "s = ax.scatter(ltng['longitude'], ltng['latitude'],\n",
    "               c=ltng['delta'],\n",
    "               cmap='plasma_r',\n",
    "               levels=6,\n",
    "               s=2)\n",
    "s.set_facecolor('none')\n",
    "\n",
    "# --- subplot 3 ---\n",
    "ax = axs[3]\n",
    "crf_bounds = np.array([0, 0.7, 0.75, 0.8, 0.85, 0.9, 0.95, 0.97, 1.0])\n",
    "norm = matplotlib.colors.BoundaryNorm(boundaries=crf_bounds, ncolors=256)\n",
    "m_crf = ax.pcolormesh(ds['assembled_lon_bounds'],\n",
    "                   ds['assembled_lat_bounds'],\n",
    "                   ds['cloud_radiance_fraction_nitrogendioxide_window'],\n",
    "                   cmap='Ice_r',\n",
    "                   norm=norm)\n",
    "ax.format(title='CRF')\n",
    "\n",
    "# format\n",
    "axs.format(abc=True,\n",
    "           abcloc='ul',\n",
    "           abcstyle='(a)',\n",
    "           lonlines=lon_d,\n",
    "           latlines=lat_d,\n",
    "           lonlim=(extend[0], extend[1]),\n",
    "           latlim=(extend[2], extend[3]),\n",
    "           dms=False,\n",
    "           suptitle='$\\Delta$ VCD'\n",
    "          )\n",
    "\n",
    "axs[:, 0].format(latlabels=True)\n",
    "axs[0, :].format(lonlabels=True)\n",
    "\n",
    "# colorbar\n",
    "axs[1].colorbar(m, loc='r',\n",
    "             ticks=plot.arange(-1.5, 1.5, 0.5),\n",
    "             label='NO$_2$ (10$^{16}$ molec. / cm$^2$)',\n",
    "             shrink=0.87)\n",
    "\n",
    "axs[3].colorbar(s, loc='r',\n",
    "#              ticks=plot.arange(-180, 0, 30),\n",
    "             label='Flash Time (mins)',\n",
    "             shrink=0.87)\n",
    "\n",
    "axs[3].colorbar(m_crf,\n",
    "                loc='r',\n",
    "                ticks=crf_bounds,\n",
    "                label='CRF',\n",
    "                shrink=0.87,\n",
    "                spacing=\"proportional\")\n",
    "\n",
    "# fig.savefig('../figures/delta_vcd_2019.png')"
   ]
  },
  {
   "cell_type": "markdown",
   "metadata": {},
   "source": [
    "## Picking the specific pixels"
   ]
  },
  {
   "cell_type": "markdown",
   "metadata": {},
   "source": [
    "Pick the pixels manually:"
   ]
  },
  {
   "cell_type": "code",
   "execution_count": null,
   "metadata": {},
   "outputs": [],
   "source": [
    "(ds_lnox['no2Trop'] - ds_nolnox['no2Trop']).assign_coords(y=range(ds_lnox['no2Trop'].sizes['y']),\n",
    "                                                          x=range(ds_lnox['no2Trop'].sizes['x'])).hvplot(xlim=(370, 410), ylim=(260, 310), clim=(-5e-4,0), cmap='viridis')"
   ]
  },
  {
   "cell_type": "code",
   "execution_count": null,
   "metadata": {},
   "outputs": [],
   "source": [
    "(ds_lnox['no2Trop'] - ds_nolnox['no2Trop']).isel(x=393, y=294)\n",
    "\n",
    "(ds_lnox['no2Trop'] - ds_nolnox['no2Trop']).isel(x=393, y=295)"
   ]
  },
  {
   "cell_type": "markdown",
   "metadata": {},
   "source": [
    "## Reproducing the results"
   ]
  },
  {
   "cell_type": "code",
   "execution_count": null,
   "metadata": {},
   "outputs": [],
   "source": [
    "def integPr(no2, s5p_p, psfc, ptropo):\n",
    "    layername = no2.dims[0]\n",
    "\n",
    "    # constants\n",
    "    R = 287.3\n",
    "    T0 = 273.15\n",
    "    g0 = 9.80665\n",
    "    p0 = 1.01325e5\n",
    "\n",
    "\n",
    "    subcolumn = 10 * R *T0 /(g0*p0) \\\n",
    "              * no2*1e6 \\\n",
    "              * abs(s5p_p.diff(s5p_p.dims[0])) * 2.6867e16 # DU to moleclues/cm2\n",
    "        \n",
    "    sub_layer = (s5p_p <= psfc) & (s5p_p > ptropo)\n",
    "\n",
    "    vcd = subcolumn.where(sub_layer[:-1, ...].values).sum(layername)\n",
    "#     print(sub_layer[:-1, ...].isel(x=284, y=214))\n",
    "#     print(subcolumn.where(sub_layer[:-1, ...].values).isel(x=284, y=214))\n",
    "\n",
    "#     print(subcolumn, sub_layer[:-1, ...], layername)\n",
    "\n",
    "    return vcd"
   ]
  },
  {
   "cell_type": "code",
   "execution_count": null,
   "metadata": {},
   "outputs": [],
   "source": [
    "topest_pressure = xr.DataArray(np.full((1, ds_lnox.sizes['y'], ds_lnox.sizes['x']), 0),\n",
    "                               dims=['plevel', 'y', 'x'])\n",
    "\n",
    "s5p_p = xr.concat([ds_lnox['plevels'], topest_pressure], dim='plevel')"
   ]
  },
  {
   "cell_type": "markdown",
   "metadata": {},
   "source": [
    "Check whether we can reproduce the integration results:"
   ]
  },
  {
   "cell_type": "code",
   "execution_count": null,
   "metadata": {},
   "outputs": [],
   "source": [
    "# Test vcdGnd\n",
    "vcdGnd_test = integPr(ds_lnox['no2apriori'], s5p_p, ds['surface_pressure']/1e2, ds_lnox['tropopause_pressure'])\n",
    "\n",
    "(ds_lnox['vcdGnd'] - vcdGnd_test).plot(xlim=xlim, ylim=ylim, vmin=-1, vmax=1)"
   ]
  },
  {
   "cell_type": "code",
   "execution_count": null,
   "metadata": {},
   "outputs": [],
   "source": [
    "scdClr = integPr(ds_lnox['no2apriori'] * ds_lnox['swClr'],\n",
    "                 s5p_p,\n",
    "                 ds['surface_pressure']/1e2, ds_lnox['tropopause_pressure'])\n",
    "\n",
    "scdCld = integPr(ds_lnox['no2apriori'] * ds_lnox['swCld'],\n",
    "                 s5p_p,\n",
    "                 ds['surface_pressure']/1e2, ds_lnox['tropopause_pressure'])\n",
    "\n",
    "amfClr = scdClr / vcdGnd_lnox\n",
    "(ds_lnox['scdClr'] - scdClr).plot(xlim=xlim, ylim=ylim)"
   ]
  },
  {
   "cell_type": "markdown",
   "metadata": {},
   "source": [
    "The small difference can be neglected.\n",
    "\n",
    "Actually this is caused by the interpolated clearSW and cloudySW in the original program."
   ]
  },
  {
   "cell_type": "code",
   "execution_count": null,
   "metadata": {},
   "outputs": [],
   "source": [
    "integPr(ds_lnox['no2apriori'], s5p_p, ds['surface_pressure']/1e2, ds_lnox['tropopause_pressure']).isel(x=284, y=214).values - ds_lnox['vcdGnd'].isel(x=284, y=214)"
   ]
  },
  {
   "cell_type": "code",
   "execution_count": null,
   "metadata": {},
   "outputs": [],
   "source": [
    "integPr(ds_nolnox['no2apriori'], s5p_p, ds['surface_pressure']/1e2, ds_nolnox['tropopause_pressure']).isel(x=284, y=214).values - ds_nolnox['vcdGnd'].isel(x=284, y=214)"
   ]
  },
  {
   "cell_type": "code",
   "execution_count": null,
   "metadata": {},
   "outputs": [],
   "source": [
    "integPr(ds_tm5['no2apriori'], s5p_p, ds['surface_pressure']/1e2, ds_tm5['tropopause_pressure']).isel(x=284, y=214).values - ds_tm5['vcdGnd'].isel(x=284, y=214).values"
   ]
  },
  {
   "cell_type": "markdown",
   "metadata": {},
   "source": [
    "It is strange that I can't reproduce the TM5 vcdGnd generated by the `s5p-chem` script.\n",
    "\n",
    "I will replace the LNOx or noLNOx profile with the TM5 profile to avoid the bug ..."
   ]
  },
  {
   "cell_type": "markdown",
   "metadata": {},
   "source": [
    "# Mean NO2 a priori profiles over convective pixels"
   ]
  },
  {
   "cell_type": "markdown",
   "metadata": {},
   "source": [
    "All pixels:"
   ]
  },
  {
   "cell_type": "code",
   "execution_count": null,
   "metadata": {},
   "outputs": [],
   "source": [
    "fig, axs = plot.subplots(axwidth=3)\n",
    "plevels = ds_lnox['plevels'].isel(x=394, y=284)\n",
    "\n",
    "means = (ds_tm5['no2apriori']*1e12).mean(dim=['x', 'y'])\n",
    "stds = (ds_tm5['no2apriori']*1e12).std(dim=['x', 'y'])\n",
    "\n",
    "l1 = axs.errorbar(means, plevels, xerr=stds, label='TM5-MP')\n",
    "\n",
    "means = (ds_lnox['no2apriori']*1e12).mean(dim=['x', 'y'])\n",
    "stds = (ds_lnox['no2apriori']*1e12).std(dim=['x', 'y'])\n",
    "\n",
    "l2 = axs.errorbar(means, plevels, xerr=stds, label='330 mol/flash')\n",
    "\n",
    "means = (ds_nolnox['no2apriori']*1e12).mean(dim=['x', 'y'])\n",
    "stds = (ds_nolnox['no2apriori']*1e12).std(dim=['x', 'y'])\n",
    "\n",
    "l3 = axs.errorbar(means, plevels, xerr=stds, label='0 mol/flash')\n",
    "\n",
    "fig.legend([l1, l2, l3], ncols=1)\n",
    "axs.format(xlim=(-1, 4e3),\n",
    "           ylim=(1000, 100),\n",
    "           xlabel='NO$_2$ (pptv)',\n",
    "           ylabel='Pressure (hPa)')"
   ]
  },
  {
   "cell_type": "markdown",
   "metadata": {},
   "source": [
    "Convective pixels:"
   ]
  },
  {
   "cell_type": "code",
   "execution_count": null,
   "metadata": {},
   "outputs": [],
   "source": [
    "crf = ds['cloud_radiance_fraction_nitrogendioxide_window']\n",
    "subset = crf>= 0.7\n",
    "\n",
    "fig, axs = plot.subplots(axwidth=3)\n",
    "\n",
    "means = (ds_tm5['no2apriori'].where(subset)*1e12).mean(dim=['x', 'y'])\n",
    "stds = (ds_tm5['no2apriori'].where(subset)*1e12).std(dim=['x', 'y'])\n",
    "\n",
    "l1 = axs.plot(means, plevels, label='TM5-MP')\n",
    "\n",
    "means = (ds_lnox_low['no2apriori'].where(subset)*1e12).mean(dim=['x', 'y'])\n",
    "stds = (ds_lnox_low['no2apriori'].where(subset)*1e12).std(dim=['x', 'y'])\n",
    "\n",
    "l2 = axs.plot(means, plevels, label='330 mol/flash')\n",
    "\n",
    "means = (ds_lnox_high['no2apriori'].where(subset)*1e12).mean(dim=['x', 'y'])\n",
    "stds = (ds_lnox_high['no2apriori'].where(subset)*1e12).std(dim=['x', 'y'])\n",
    "\n",
    "l3 = axs.plot(means, plevels, label='700 mol/flash')\n",
    "\n",
    "means = (ds_lnox['no2apriori'].where(subset)*1e12).mean(dim=['x', 'y'])\n",
    "stds = (ds_lnox['no2apriori'].where(subset)*1e12).std(dim=['x', 'y'])\n",
    "\n",
    "l4 = axs.plot(means, plevels, label='500 mol/flash')\n",
    "\n",
    "\n",
    "means = (ds_nolnox['no2apriori'].where(subset)*1e12).mean(dim=['x', 'y'])\n",
    "stds = (ds_nolnox['no2apriori'].where(subset)*1e12).std(dim=['x', 'y'])\n",
    "\n",
    "l5 = axs.plot(means, plevels, label='0 mol/flash')\n",
    "\n",
    "fig.legend([l1, l2, l3, l4, l5], ncols=1)\n",
    "axs.format(xlim=(-1e2, 2e3),\n",
    "           ylim=(1000, 100),\n",
    "           xlabel='NO$_2$ (pptv)',\n",
    "           ylabel='Pressure (hPa)',\n",
    "           yscale='log',\n",
    "           ylocator=100,\n",
    "           grid=False)"
   ]
  },
  {
   "cell_type": "markdown",
   "metadata": {},
   "source": [
    "# Test of replacing profiles"
   ]
  },
  {
   "cell_type": "markdown",
   "metadata": {},
   "source": [
    "**h1: p > 800 hPa**\n",
    "\n",
    "\n",
    "**h2: 400 hPa <= p <= 800 hPa**\n",
    "\n",
    "**h3: 150 hPa <= p <= 400 hPa**\n",
    "\n",
    "~~850 hPa, 200 hPa~~\n",
    "\n",
    "Note: The modified Ott profile has a bimodal distribution (4 km and 8 km)\n",
    "\n",
    "- Surface to 800 hPa (2 km): No significant difference\n",
    "- 800 hPa -- 400 hPa (7 km): first summit\n",
    "- 400 hPa -- 150 hPa (13.5 km): second summit"
   ]
  },
  {
   "cell_type": "markdown",
   "metadata": {},
   "source": [
    "## TM5 as the reference"
   ]
  },
  {
   "cell_type": "markdown",
   "metadata": {},
   "source": [
    "**h1: p > 800 hPa**\n",
    "\n",
    "    - TM5 v.s 0 mol/flash\n",
    "\n",
    "**h2: 400 hPa <= p <= 800 hPa**\n",
    "\n",
    "    - TM5 v.s 0 mol/flash\n",
    "    - TM5 v.s 500 mol/flash\n",
    "\n",
    "**h3: 150 hPa <= p <= 400 hPa**\n",
    "\n",
    "    - TM5 v.s 0 mol/flash"
   ]
  },
  {
   "cell_type": "code",
   "execution_count": null,
   "metadata": {},
   "outputs": [],
   "source": [
    "# def cal_amf(ds, ds_model, ds_model_apriori, s5p_p):\n",
    "#     scdClr = integPr(ds_model_apriori * ds_model['swClr'],\n",
    "#                      s5p_p,\n",
    "#                      ds['surface_pressure']/1e2, ds_model['tropopause_pressure'])\n",
    "\n",
    "#     scdCld = integPr(ds_model_apriori * ds_model['swCld'],\n",
    "#                      s5p_p,\n",
    "#                      ds['cloud_pressure_crb']/1e2, ds_model['tropopause_pressure'])\n",
    "\n",
    "#     vcdGnd = integPr(ds_model_apriori, s5p_p, ds['surface_pressure']/1e2, ds_model['tropopause_pressure'])\n",
    "\n",
    "#     amfClr = scdClr / vcdGnd\n",
    "#     amfCld = scdCld / vcdGnd\n",
    "\n",
    "#     crf = ds['cloud_radiance_fraction_nitrogendioxide_window']\n",
    "\n",
    "#     amf = amfClr*(1-crf) + amfCld*crf\n",
    "\n",
    "#     return amf\n",
    "\n",
    "def cal_amf(ds, ds_lnox, da_mod, s5p_p):\n",
    "    scdClr = integPr(da_mod * ds_lnox['swClr'],\n",
    "                     s5p_p,\n",
    "                     ds['surface_pressure']/1e2, ds_lnox['tropopause_pressure'])\n",
    "\n",
    "    scdCld = integPr(da_mod * ds_lnox['swCld'],\n",
    "                     s5p_p,\n",
    "                     ds['cloud_pressure_crb']/1e2, ds_lnox['tropopause_pressure'])\n",
    "\n",
    "    vcdGnd = integPr(da_mod, s5p_p, ds['surface_pressure']/1e2, ds_lnox['tropopause_pressure'])\n",
    "\n",
    "    amfClr = scdClr / vcdGnd\n",
    "    amfCld = scdCld / vcdGnd\n",
    "\n",
    "    crf = ds['cloud_radiance_fraction_nitrogendioxide_window']\n",
    "\n",
    "    amf = amfClr*(1-crf) + amfCld*crf\n",
    "\n",
    "    return amf"
   ]
  },
  {
   "cell_type": "markdown",
   "metadata": {},
   "source": [
    "#### h1"
   ]
  },
  {
   "cell_type": "code",
   "execution_count": null,
   "metadata": {},
   "outputs": [],
   "source": [
    "h1 = ds_nolnox['plevels'] > 800\n",
    "\n",
    "ds_h1 = ds_nolnox['no2apriori'].where(~h1,  ds_tm5['no2apriori'])\n",
    "amf_h1 = cal_amf(ds, ds_nolnox, ds_h1, s5p_p)\n",
    "\n",
    "((amf_h1 - ds_nolnox['amfTrop'])/ds_nolnox['amfTrop']).plot(xlim=xlim, ylim=ylim)"
   ]
  },
  {
   "cell_type": "markdown",
   "metadata": {},
   "source": [
    "#### h2"
   ]
  },
  {
   "cell_type": "code",
   "execution_count": null,
   "metadata": {},
   "outputs": [],
   "source": [
    "h2 = (ds_nolnox['plevels'] >= 400) & (ds_nolnox['plevels'] <= 800)\n",
    "\n",
    "ds_h2 = ds_nolnox['no2apriori'].where(~h2,  ds_tm5['no2apriori'])\n",
    "amf_h2 = cal_amf(ds, ds_nolnox, ds_h2, s5p_p)\n",
    "\n",
    "((amf_h2 - ds_nolnox['amfTrop'])/ds_nolnox['amfTrop']).plot(xlim=xlim, ylim=ylim)"
   ]
  },
  {
   "cell_type": "code",
   "execution_count": null,
   "metadata": {},
   "outputs": [],
   "source": [
    "h2 = (ds_lnox['plevels'] >= 150) & (ds_lnox['plevels'] <= 400)\n",
    "\n",
    "ds_h2 = ds_lnox['no2apriori'].where(~h2,  ds_tm5['no2apriori'])\n",
    "amf_h2 = cal_amf(ds, ds_lnox, ds_h2, s5p_p)\n",
    "\n",
    "((amf_h2 - ds_lnox['amfTrop'])/ds_lnox['amfTrop']).plot(xlim=xlim, ylim=ylim)"
   ]
  },
  {
   "cell_type": "markdown",
   "metadata": {},
   "source": [
    "#### h3"
   ]
  },
  {
   "cell_type": "code",
   "execution_count": null,
   "metadata": {},
   "outputs": [],
   "source": [
    "h3 = ds_nolnox['plevels'] < 150\n",
    "\n",
    "ds_h3 = ds_nolnox['no2apriori'].where(~h3,  ds_tm5['no2apriori'])\n",
    "amf_h3 = cal_amf(ds, ds_nolnox, ds_h3, s5p_p)\n",
    "\n",
    "((amf_h3 - ds_nolnox['amfTrop'])/ds_nolnox['amfTrop']).plot(xlim=xlim, ylim=ylim)"
   ]
  },
  {
   "cell_type": "markdown",
   "metadata": {},
   "source": [
    "As the difference is large and different over different regions, it's better to compare 0 mol/flash and 330 mol/flash:"
   ]
  },
  {
   "cell_type": "markdown",
   "metadata": {},
   "source": [
    "## 0 mol/flash as the reference"
   ]
  },
  {
   "cell_type": "markdown",
   "metadata": {},
   "source": [
    "0 mol/flash vs. 500 mol/flash:\n",
    "\n",
    "**h1: p > 800 hPa**\n",
    "\n",
    "**h2: 400 hPa <= p <= 800 hPa**\n",
    "\n",
    "**h2: 150 hPa <= p <= 400 hPa**"
   ]
  },
  {
   "cell_type": "markdown",
   "metadata": {},
   "source": [
    "#### h1"
   ]
  },
  {
   "cell_type": "code",
   "execution_count": null,
   "metadata": {},
   "outputs": [],
   "source": [
    "h1 = ds_nolnox['plevels'] > 800\n",
    "\n",
    "ds_h1 = ds_nolnox['no2apriori'].where(~h1,  ds_nolnox['no2apriori'])\n",
    "amf_h1 = cal_amf(ds, ds_nolnox, ds_h1, s5p_p)\n",
    "\n",
    "((amf_h1 - ds_nolnox['amfTrop'])/ds_nolnox['amfTrop']).plot(xlim=xlim, ylim=ylim)"
   ]
  },
  {
   "cell_type": "markdown",
   "metadata": {},
   "source": [
    "#### h2"
   ]
  },
  {
   "cell_type": "code",
   "execution_count": null,
   "metadata": {},
   "outputs": [],
   "source": [
    "h2 = (ds_nolnox['plevels'] >= 400) & (ds_nolnox['plevels'] <= 800)\n",
    "\n",
    "ds_h2 = ds_nolnox['no2apriori'].where(~h2,  ds_lnox['no2apriori'])\n",
    "amf_h2 = cal_amf(ds, ds_nolnox, ds_h2, s5p_p)\n",
    "\n",
    "((amf_h2 - ds_nolnox['amfTrop'])/ds_nolnox['amfTrop']).plot(xlim=xlim, ylim=ylim)"
   ]
  },
  {
   "cell_type": "markdown",
   "metadata": {},
   "source": [
    "#### h3"
   ]
  },
  {
   "cell_type": "code",
   "execution_count": null,
   "metadata": {},
   "outputs": [],
   "source": [
    "h3 = (ds_nolnox['plevels'] >= 150) & (ds_nolnox['plevels'] <= 400)\n",
    "\n",
    "ds_h3 = ds_nolnox['no2apriori'].where(~h3,  ds_lnox['no2apriori'])\n",
    "amf_h3 = cal_amf(ds, ds_nolnox, ds_h3, s5p_p)\n",
    "\n",
    "((amf_h3 - ds_nolnox['amfTrop'])/ds_nolnox['amfTrop']).plot(xlim=xlim, ylim=ylim)"
   ]
  },
  {
   "cell_type": "markdown",
   "metadata": {},
   "source": [
    "#### Overall"
   ]
  },
  {
   "cell_type": "code",
   "execution_count": null,
   "metadata": {},
   "outputs": [],
   "source": [
    "amf_all = cal_amf(ds, ds_nolnox, ds_lnox['no2apriori'], s5p_p)\n",
    "((amf_all - ds_nolnox['amfTrop'])/ds_nolnox['amfTrop']).plot(xlim=xlim, ylim=ylim)"
   ]
  },
  {
   "cell_type": "markdown",
   "metadata": {},
   "source": [
    "## Comparisons of SCD$_{Trop}$ by replacing profiles"
   ]
  },
  {
   "cell_type": "code",
   "execution_count": null,
   "metadata": {},
   "outputs": [],
   "source": [
    "def cal_scd(ds, ds_lnox, da_mod, s5p_p):\n",
    "    scdClr = integPr(da_mod * ds_lnox['swClr'],\n",
    "                     s5p_p,\n",
    "                     ds['surface_pressure']/1e2, ds_lnox['tropopause_pressure'])\n",
    "\n",
    "    scdCld = integPr(da_mod * ds_lnox['swCld'],\n",
    "                     s5p_p,\n",
    "                     ds['cloud_pressure_crb']/1e2, ds_lnox['tropopause_pressure'])\n",
    "\n",
    "    crf = ds['cloud_radiance_fraction_nitrogendioxide_window']\n",
    "\n",
    "    scdTrop = scdClr*(1-crf) + scdCld*crf\n",
    "\n",
    "    return scdTrop.where(ds['no2_scd_flag']==0)"
   ]
  },
  {
   "cell_type": "code",
   "execution_count": null,
   "metadata": {},
   "outputs": [],
   "source": [
    "scd_nolnox = cal_scd(ds, ds_lnox, ds_nolnox['no2apriori'], s5p_p)\n",
    "scd_lnox = cal_scd(ds, ds_lnox, ds_lnox['no2apriori'], s5p_p)\n",
    "scd_lnox_low = cal_scd(ds, ds_lnox, ds_lnox_low['no2apriori'], s5p_p)\n",
    "scd_lnox_high = cal_scd(ds, ds_lnox, ds_lnox_high['no2apriori'], s5p_p)"
   ]
  },
  {
   "cell_type": "code",
   "execution_count": null,
   "metadata": {},
   "outputs": [],
   "source": [
    "fig, axs = plot.subplots(proj='pcarree', ncols=4)#, space=0)\n",
    "\n",
    "provinces = load_province()\n",
    "axs.add_feature(provinces, edgecolor='k', linewidth=.3)\n",
    "\n",
    "extend = [118, 119.6, 31.2, 32.8]\n",
    "lon_d = 0.5; lat_d = 0.5\n",
    "\n",
    "cmap = plot.Colormap('YlGnBu_r', 'YlOrRd', ratios=(1, 1))\n",
    "\n",
    "m0 = axs[0].pcolormesh(ds['assembled_lon_bounds'],\n",
    "                       ds['assembled_lat_bounds'],\n",
    "                       scd_nolnox/1e16,\n",
    "                       vmin=0,\n",
    "                       vmax=3,\n",
    "                       levels=256,\n",
    "                       cmap=cmap)\n",
    "axs[0].format(title='0 mol/flash')\n",
    "\n",
    "m1 = axs[1].pcolormesh(ds['assembled_lon_bounds'],\n",
    "                       ds['assembled_lat_bounds'],\n",
    "                       scd_lnox_low/1e16,\n",
    "                       vmin=0,\n",
    "                       vmax=3,\n",
    "                       levels=256,\n",
    "                       cmap=cmap)\n",
    "axs[1].format(title='330 mol/flash')\n",
    "\n",
    "m2 = axs[2].pcolormesh(ds['assembled_lon_bounds'],\n",
    "                       ds['assembled_lat_bounds'],\n",
    "                       scd_lnox/1e16,\n",
    "                       vmin=0,\n",
    "                       vmax=3,\n",
    "                       levels=256,\n",
    "                       cmap=cmap)\n",
    "axs[2].format(title='500 mol/flash')\n",
    "\n",
    "m3 = axs[3].pcolormesh(ds['assembled_lon_bounds'],\n",
    "                       ds['assembled_lat_bounds'],\n",
    "                       scd_lnox_high/1e16,\n",
    "                       vmin=0,\n",
    "                       vmax=3,\n",
    "                       levels=256,\n",
    "                       cmap=cmap)\n",
    "axs[3].format(title='700 mol/flash')\n",
    "\n",
    "fig.colorbar([m0], loc='r', ticks=0.5, minorticks=0.25, label='10$^{16}$ molec. / cm$^2$', extend='both')\n",
    "\n",
    "axs.format(abc=False,#True,\n",
    "#            abcloc='l',\n",
    "#            abcstyle='(a)',\n",
    "           lonlines=lon_d,\n",
    "           latlines=lat_d,\n",
    "           lonlim=(extend[0], extend[1]),\n",
    "           latlim=(extend[2], extend[3]),\n",
    "           rowlabels=['2020-09-01'],\n",
    "           dms=False,\n",
    "           lonlabels=True,\n",
    "           suptitle='a priori SCD$_{tropNO_2}$',\n",
    "           grid=False,\n",
    "          )\n",
    "# format\n",
    "axs[:, 0].format(latlabels=True)\n",
    "\n",
    "fig.savefig('../figures/s5p_apriori_scd_2020.png')"
   ]
  },
  {
   "cell_type": "markdown",
   "metadata": {},
   "source": [
    "## Comparisons of AMFs by replacing profiles"
   ]
  },
  {
   "cell_type": "markdown",
   "metadata": {},
   "source": [
    "#### AMF$_{Trop}$"
   ]
  },
  {
   "cell_type": "code",
   "execution_count": null,
   "metadata": {},
   "outputs": [],
   "source": [
    "def cal_amf(ds, ds_lnox, da_mod, s5p_p):\n",
    "    scdClr = integPr(da_mod * ds_lnox['swClr'],\n",
    "                     s5p_p,\n",
    "                     ds['surface_pressure']/1e2, ds_lnox['tropopause_pressure'])\n",
    "\n",
    "    scdCld = integPr(da_mod * ds_lnox['swCld'],\n",
    "                     s5p_p,\n",
    "                     ds['cloud_pressure_crb']/1e2, ds_lnox['tropopause_pressure'])\n",
    "\n",
    "    vcdGnd = integPr(da_mod, s5p_p, ds['surface_pressure']/1e2, ds_lnox['tropopause_pressure'])\n",
    "\n",
    "    amfClr = scdClr / vcdGnd\n",
    "    amfCld = scdCld / vcdGnd\n",
    "\n",
    "    crf = ds['cloud_radiance_fraction_nitrogendioxide_window']\n",
    "\n",
    "    amf = amfClr*(1-crf) + amfCld*crf\n",
    "\n",
    "    return amf"
   ]
  },
  {
   "cell_type": "code",
   "execution_count": null,
   "metadata": {},
   "outputs": [],
   "source": [
    "def delta_amf(ds, ds_nolnox, ds_lnox, s5p_p, vmin, vmax, ax=None, p_min=None, p_max=None, cmap='RdBu_r', cut=0):\n",
    "    '''\n",
    "    Replace the a priori profile, recalculate AMF, and\n",
    "        calculate the percent difference:\n",
    "            (new_AMF - AMF_nolnox) / AMF_nolnox, units: %\n",
    "\n",
    "    Finally, plot the percent difference on ax.\n",
    "    \n",
    "    Return the plot object.\n",
    "    '''\n",
    "\n",
    "    if p_min and p_max:\n",
    "        p = (p_min <= ds_lnox['plevels']) & (ds_lnox['plevels'] <= p_max)\n",
    "    elif p_min:\n",
    "        p = ds_lnox['plevels'] < p_min\n",
    "    elif p_max:\n",
    "        p = ds_lnox['plevels'] > p_max\n",
    "    else:\n",
    "        p = xr.full_like(ds_lnox['plevels'], True, dtype='bool')\n",
    "\n",
    "#     ds_new = ds_nolnox['no2apriori'].where(~p,  ds_replace['no2apriori'])\n",
    "#     amf = cal_amf(ds, ds_nolnox, ds_new, s5p_p)\n",
    "#     difference = (amf-ds_nolnox['amfTrop'])/ds_nolnox['amfTrop']*1e2\n",
    "\n",
    "#     da_mod = ds_lnox['no2apriori'].where(~p, ds_nolnox['no2apriori'])\n",
    "    da_mod = ds_nolnox['no2apriori'].where(~p, ds_lnox['no2apriori'])\n",
    "    amf_mod = cal_amf(ds, ds_lnox, da_mod, s5p_p)\n",
    "    amf = ds_nolnox['amfTrop']\n",
    "    difference = (amf_mod-amf)/amf*1e2\n",
    "\n",
    "#     difference = (amf-ds_lnox['amfTrop'])/ds_lnox['amfTrop']*1e2\n",
    "#     difference = (ds_lnox['amfTrop'] - amf)/amf*1e2\n",
    "    \n",
    "\n",
    "    if ax:\n",
    "        m = ax.pcolormesh(ds['assembled_lon_bounds'],\n",
    "                          ds['assembled_lat_bounds'],\n",
    "                          difference,\n",
    "                          vmin=vmin,\n",
    "                          vmax=vmax,\n",
    "                          levels=256,\n",
    "                          cmap=cmap,\n",
    "                          cmap_kw={'cut': cut})\n",
    "    \n",
    "        print('min_diff', difference.min(), 'max_diff', difference.max())\n",
    "        return m\n",
    "\n",
    "    else:\n",
    "        return amf, amf_mod\n",
    "\n",
    "    return m"
   ]
  },
  {
   "cell_type": "code",
   "execution_count": null,
   "metadata": {},
   "outputs": [],
   "source": [
    "fig, axs = plot.subplots(axwidth=4, proj='pcarree',\n",
    "                         ncols=4, nrows=2, sharey=3)\n",
    "\n",
    "extend = [118.2, 119.7, 31.5, 32.8]\n",
    "lon_d = 0.5; lat_d = 0.5\n",
    "amftrop_min = -150; amftrop_max=150\n",
    "\n",
    "\n",
    "## ---------------- AMF_Trop ---------------- ##\n",
    "# --- subplot 0 ---\n",
    "ax = axs[0]\n",
    "m = delta_amf(ds, ds_nolnox, ds_lnox, s5p_p, amftrop_min, amftrop_max, ax=ax, p_max=800)\n",
    "ax.format(title='Low layer (> 800 hPa)')\n",
    "\n",
    "# --- lightning scatter ---\n",
    "s = ax.scatter(ltng['longitude'], ltng['latitude'],\n",
    "               c=ltng['delta'],\n",
    "               cmap='plasma_r',\n",
    "               levels=6,\n",
    "               s=2)\n",
    "s.set_facecolor('none')\n",
    "\n",
    "ax.colorbar(s, loc='l',\n",
    "            label='Flash Time (mins)',\n",
    "            shrink=0.87)\n",
    "\n",
    "# --- subplot 1 ---\n",
    "ax = axs[1]\n",
    "delta_amf(ds, ds_nolnox, ds_lnox, s5p_p, amftrop_min, amftrop_max, ax=ax, p_min=400, p_max=800)\n",
    "ax.format(title='Middle layer (800 hPa - 400 hPa)')\n",
    "\n",
    "# --- subplot 2 ---\n",
    "ax = axs[2]\n",
    "delta_amf(ds, ds_nolnox, ds_lnox, s5p_p, amftrop_min, amftrop_max, ax=ax, p_min=150, p_max=400)\n",
    "ax.format(title='High layer (400 hPa - 150 hPa)')\n",
    "\n",
    "\n",
    "\n",
    "# --- subplot 3 ---\n",
    "ax = axs[3]\n",
    "delta_amf(ds, ds_nolnox, ds_lnox, s5p_p, amftrop_min, amftrop_max, ax=ax)\n",
    "ax.format(title='All layers')\n",
    "\n",
    "# colorbar\n",
    "ax.colorbar(m, loc='r',\n",
    "            ticks=plot.arange(-150, 150, 50),\n",
    "            minorticks=25,\n",
    "            label='%$\\Delta$ AMF$_{Trop}$ 500 vs. 0 mol/flash',\n",
    "            shrink=0.87)\n",
    "\n",
    "# format\n",
    "axs.format(abc=True,\n",
    "           abcloc='ul',\n",
    "           abcstyle='(a)',\n",
    "           lonlines=lon_d,\n",
    "           latlines=lat_d,\n",
    "           lonlim=(extend[0], extend[1]),\n",
    "           latlim=(extend[2], extend[3]),\n",
    "           dms=False,\n",
    "#            suptitle='(modified AMF - AMF)/AMF'\n",
    "          )\n",
    "\n",
    "axs[:, 0].format(latlabels=True)\n",
    "axs[1, :].format(lonlabels=True)\n",
    "\n",
    "\n",
    "\n",
    "## ---------------- AMF_LNO2 ---------------- ##\n",
    "\n",
    "\n",
    "# axs[3].colorbar(s, loc='r',\n",
    "# #              ticks=plot.arange(-180, 0, 30),\n",
    "#              label='Flash Time (mins)',\n",
    "#              shrink=0.87)\n",
    "\n",
    "# axs[3].colorbar(m_crf,\n",
    "#                 loc='r',\n",
    "#                 ticks=crf_bounds,\n",
    "#                 label='CRF',\n",
    "#                 shrink=0.87,\n",
    "#                 spacing=\"proportional\")\n",
    "\n",
    "# fig.savefig('../figures/delta_vcd_2019.png')"
   ]
  },
  {
   "cell_type": "markdown",
   "metadata": {},
   "source": [
    "## AMF$_{LNO_x}$"
   ]
  },
  {
   "cell_type": "markdown",
   "metadata": {},
   "source": [
    "$ AMF_{LNO_x} = AMF_{Trop} * VCD_{Gnd} / VCD_{LNO_x} $\n",
    "\n",
    "Replace the profile:\n",
    "\n",
    "$ AMF_{LNO_x} = AMF_{Trop}(replace) * VCD_{Gnd}(replace) / VCD_{LNO_x}(replace) $"
   ]
  },
  {
   "cell_type": "code",
   "execution_count": null,
   "metadata": {},
   "outputs": [],
   "source": [
    "(ds_lnox['amfTrop'] * ds_lnox['vcdGnd']).plot(xlim=xlim, ylim=ylim)"
   ]
  },
  {
   "cell_type": "code",
   "execution_count": null,
   "metadata": {},
   "outputs": [],
   "source": [
    "(ds_lnox['vcdGnd']-ds_nolnox['vcdGnd'] + ds_lnox['vcdGnd_no']-ds_nolnox['vcdGnd_no']).plot(xlim=xlim, ylim=ylim)"
   ]
  },
  {
   "cell_type": "code",
   "execution_count": null,
   "metadata": {},
   "outputs": [],
   "source": [
    "(ds_lnox['amfTrop'] * ds_lnox['vcdGnd'] / (ds_lnox['vcdGnd']-ds_nolnox['vcdGnd'] + ds_lnox['vcdGnd_no']-ds_nolnox['vcdGnd_no'])).assign_coords(y=range(ds_lnox['no2Trop'].sizes['y']),\n",
    "                                                          x=range(ds_lnox['no2Trop'].sizes['x'])).hvplot(xlim=xlim, ylim=ylim, clim=(0,1), cmap='viridis')"
   ]
  },
  {
   "cell_type": "markdown",
   "metadata": {},
   "source": [
    "Parameters causing the negative and large positive AMF$_{LNOx}$ values:\n",
    "\n",
    "Pixels not affected by LNOx should have **small positive even negative** values.\n",
    "\n",
    "So, it's better to clip the AMF_LNOx values to 0 ~ 1:"
   ]
  },
  {
   "cell_type": "code",
   "execution_count": null,
   "metadata": {},
   "outputs": [],
   "source": [
    "def cal_amf_lnox(ds, ds_nolnox, ds_lnox, da_mod, da_mod_no, s5p_p):\n",
    "    scdClr = integPr(da_mod * ds_lnox['swClr'],\n",
    "                     s5p_p,\n",
    "                     ds['surface_pressure']/1e2, ds_lnox['tropopause_pressure'])\n",
    "\n",
    "    scdCld = integPr(da_mod * ds_lnox['swCld'],\n",
    "                     s5p_p,\n",
    "                     ds['cloud_pressure_crb']/1e2, ds_lnox['tropopause_pressure'])\n",
    "\n",
    "    vcdGnd = integPr(da_mod, s5p_p, ds['surface_pressure']/1e2, ds_lnox['tropopause_pressure'])\n",
    "    vcdGnd_no = integPr(da_mod_no, s5p_p, ds['surface_pressure']/1e2, ds_lnox['tropopause_pressure'])\n",
    "\n",
    "    amfClr = scdClr / vcdGnd\n",
    "    amfCld = scdCld / vcdGnd\n",
    "\n",
    "    crf = ds['cloud_radiance_fraction_nitrogendioxide_window']\n",
    "\n",
    "    amf = amfClr*(1-crf) + amfCld*crf\n",
    "    \n",
    "    amf_lnox = ds_lnox['amfTrop'] * ds_lnox['vcdGnd'] / (ds_lnox['vcdGnd']-ds_nolnox['vcdGnd'] + ds_lnox['vcdGnd_no']-ds_nolnox['vcdGnd_no'])\n",
    "    amf_lnox_mod = amf * vcdGnd / (vcdGnd-ds_nolnox['vcdGnd'] + vcdGnd_no-ds_nolnox['vcdGnd_no'])\n",
    "\n",
    "    return amf_lnox, amf_lnox_mod\n",
    "\n",
    "\n",
    "def delta_amf_lnox(ds, ds_nolnox, ds_lnox, ds_lnox_high, s5p_p, vmin, vmax, ax=None, p_min=None, p_max=None, cmap='RdBu_r', cut=0):\n",
    "    '''\n",
    "    Replace the a priori profile, recalculate AMF, and\n",
    "        calculate the percent difference:\n",
    "            (new_AMF - AMF_nolnox) / AMF_nolnox, units: %\n",
    "\n",
    "    Finally, plot the percent difference on ax.\n",
    "    \n",
    "    Return the plot object.\n",
    "    '''\n",
    "\n",
    "    if p_min and p_max:\n",
    "        p = (p_min <= ds_lnox['plevels']) & (ds_lnox['plevels'] <= p_max)\n",
    "    elif p_min:\n",
    "        p = ds_lnox['plevels'] < p_min\n",
    "    elif p_max:\n",
    "        p = ds_lnox['plevels'] > p_max\n",
    "    else:\n",
    "        p = xr.full_like(ds_lnox['plevels'], True, dtype='bool')\n",
    "\n",
    "    ds_mod = ds_lnox['no2apriori'].where(~p, ds_lnox_high['no2apriori'])\n",
    "    ds_mod_no = ds_lnox['noapriori'].where(~p, ds_lnox_high['noapriori'])\n",
    "\n",
    "    amf_lnox, amf_lnox_mod = cal_amf_lnox(ds, ds_nolnox, ds_lnox, ds_mod, ds_mod_no, s5p_p)\n",
    "        \n",
    "    # only plot the AMFs related to LNOx (0 < AMF < 10)\n",
    "    valid = (0 < amf_lnox) & (amf_lnox <= 10)\n",
    "    difference = (amf_lnox_mod-amf_lnox)/amf_lnox*1e2\n",
    "    difference = difference.where(valid)\n",
    "\n",
    "    if ax:\n",
    "        m = ax.pcolormesh(ds['assembled_lon_bounds'],\n",
    "                          ds['assembled_lat_bounds'],\n",
    "                          difference,\n",
    "                          vmin=vmin,\n",
    "                          vmax=vmax,\n",
    "                          levels=256,\n",
    "                          cmap=cmap,\n",
    "                          cmap_kw={'cut': cut})\n",
    "\n",
    "        print('min_diff_high', difference.where(valid).min(), 'max_diff_high', difference.where(valid).max())\n",
    "        return m\n",
    "\n",
    "    else:\n",
    "        return amf_lnox, amf_lnox_mod"
   ]
  },
  {
   "cell_type": "code",
   "execution_count": null,
   "metadata": {},
   "outputs": [],
   "source": [
    "## ---------------- AMF_LNOx ---------------- ##\n",
    "amflnox_min = -50; amflnox_max=50\n",
    "\n",
    "# --- subplot 4 ---\n",
    "ax = axs[4]\n",
    "m = delta_amf_lnox(ds, ds_nolnox, ds_lnox, ds_lnox_high, s5p_p, amflnox_min, amflnox_max, ax=ax, p_max=800)\n",
    "ax.format(title='Low layer (> 800 hPa)')\n",
    "\n",
    "# --- lightning scatter ---\n",
    "s = ax.scatter(ltng['longitude'], ltng['latitude'],\n",
    "               c=ltng['delta'],\n",
    "               cmap='plasma_r',\n",
    "               levels=6,\n",
    "               s=2)\n",
    "s.set_facecolor('none')\n",
    "\n",
    "ax.colorbar(s, loc='l',\n",
    "            label='Flash Time (mins)',\n",
    "            shrink=0.87)\n",
    "\n",
    "# --- subplot 5 ---\n",
    "ax = axs[5]\n",
    "delta_amf_lnox(ds, ds_nolnox, ds_lnox, ds_lnox_high, s5p_p, amflnox_min, amflnox_max, ax=ax, p_min=400, p_max=800)\n",
    "ax.format(title='Middle layer (800 hPa - 400 hPa)')\n",
    "\n",
    "# --- subplot 6 ---\n",
    "ax = axs[6]\n",
    "delta_amf_lnox(ds, ds_nolnox, ds_lnox, ds_lnox_high, s5p_p, amflnox_min, amflnox_max, ax=ax, p_min=150, p_max=400)\n",
    "ax.format(title='High layer (400 hPa - 150 hPa)')\n",
    "\n",
    "# --- subplot 7 ---\n",
    "ax = axs[7]\n",
    "delta_amf_lnox(ds, ds_nolnox, ds_lnox, ds_lnox_high, s5p_p, amflnox_min, amflnox_max, ax=ax)\n",
    "ax.format(title='All layers')\n",
    "\n",
    "# colorbar\n",
    "ax.colorbar(m, loc='r',\n",
    "            ticks=plot.arange(-50, 50, 25),\n",
    "            minorticks=5,\n",
    "            label='%$\\Delta$ AMF$_{LNO_x}$ 700 vs. 500 mol/flash',\n",
    "            shrink=0.87)\n",
    "\n",
    "fig"
   ]
  },
  {
   "cell_type": "markdown",
   "metadata": {},
   "source": [
    "Since the effect of the low layer can be neglected, I don't plot it to decrease the size of figure:"
   ]
  },
  {
   "cell_type": "code",
   "execution_count": null,
   "metadata": {},
   "outputs": [],
   "source": [
    "fig, axs = plot.subplots(proj='pcarree', ncols=3, nrows=2, sharey=3, space=0)\n",
    "cmap = 'RdBu_r'; cut = 0.1\n",
    "provinces = load_province()\n",
    "axs.add_feature(provinces, edgecolor='k', linewidth=.3)\n",
    "\n",
    "# extend = [118.2, 119.7, 31.5, 32.8]\n",
    "extend = [118, 119.6, 31.2, 32.8]\n",
    "lon_d = 0.5; lat_d = 0.5\n",
    "amftrop_min = -100; amftrop_max=100\n",
    "# amftrop_min = -50; amftrop_max=50\n",
    "\n",
    "\n",
    "## ---------------- AMF_Trop ---------------- ##\n",
    "# --- subplot 0 ---\n",
    "ax = axs[0]\n",
    "delta_amf(ds, ds_nolnox, ds_lnox, s5p_p, amftrop_min, amftrop_max, ax=ax, p_min=400, p_max=800, cmap=cmap, cut=cut)\n",
    "# ax.format(title='Middle layer (800 hPa - 400 hPa)')\n",
    "\n",
    "# --- subplot 1 ---\n",
    "ax = axs[1]\n",
    "delta_amf(ds, ds_nolnox, ds_lnox, s5p_p, amftrop_min, amftrop_max, ax=ax, p_min=150, p_max=400, cmap=cmap, cut=cut)\n",
    "# ax.format(title='High layer (400 hPa - 150 hPa)')\n",
    "\n",
    "\n",
    "\n",
    "# --- subplot 2 ---\n",
    "ax = axs[2]\n",
    "m = delta_amf(ds, ds_nolnox, ds_lnox, s5p_p, amftrop_min, amftrop_max, ax=ax, cmap=cmap, cut=cut)\n",
    "# ax.format(title='All layers')\n",
    "\n",
    "# colorbar\n",
    "ax.colorbar(m, loc='r',\n",
    "#             ticks=plot.arange(-50, 50, 25),\n",
    "#             minorticks=5,\n",
    "            ticks=plot.arange(-100, 100, 50),\n",
    "            minorticks=25,\n",
    "            label='500 vs. 0 mol/flash',\n",
    "            extend='max',\n",
    "            shrink=0.9,\n",
    "           )\n",
    "\n",
    "\n",
    "## ---------------- AMF_LNOx ---------------- ##\n",
    "amflnox_min = -30; amflnox_max=30\n",
    "\n",
    "# --- subplot 3 ---\n",
    "ax = axs[3]\n",
    "delta_amf_lnox(ds, ds_nolnox, ds_lnox, ds_lnox_high, s5p_p, amflnox_min, amflnox_max, ax=ax, p_min=400, p_max=800, cmap=cmap, cut=cut)\n",
    "# ax.format(title='Middle layer (800 hPa - 400 hPa)')\n",
    "\n",
    "# --- subplot 4 ---\n",
    "ax = axs[4]\n",
    "delta_amf_lnox(ds, ds_nolnox, ds_lnox, ds_lnox_high, s5p_p, amflnox_min, amflnox_max, ax=ax, p_min=150, p_max=400, cmap=cmap, cut=cut)\n",
    "# ax.format(title='High layer (400 hPa - 150 hPa)')\n",
    "\n",
    "# --- subplot 5 ---\n",
    "ax = axs[5]\n",
    "m = delta_amf_lnox(ds, ds_nolnox, ds_lnox, ds_lnox_high, s5p_p, amflnox_min, amflnox_max, ax=ax, cmap=cmap, cut=cut)\n",
    "# ax.format(title='All layers')\n",
    "\n",
    "# colorbar\n",
    "ax.colorbar(m, loc='r',\n",
    "            ticks=plot.arange(-30, 30, 10),\n",
    "            minorticks=5,\n",
    "            label='700 vs. 500 mol/flash',\n",
    "            extend='min',\n",
    "            shrink=0.9,\n",
    "           )\n",
    "\n",
    "# format\n",
    "axs[:, 0].format(latlabels=True)\n",
    "axs[1, :].format(lonlabels=True)\n",
    "\n",
    "axs.format(abc=False, #True,\n",
    "#            abcloc='ul',\n",
    "#            abcstyle='(a)',\n",
    "           lonlines=lon_d,\n",
    "           latlines=lat_d,\n",
    "           lonlim=(extend[0], extend[1]),\n",
    "           latlim=(extend[2], extend[3]),\n",
    "           rowlabels=['%$\\Delta$ AMF$_{Trop}$ \\n (2020-09-01)',\n",
    "                      '%$\\Delta$ AMF$_{LNO_x}$ \\n (2020-09-01)'],\n",
    "           collabels=['Middle Troposphere \\n (800 hPa to 400 hPa)',\n",
    "                      'Upper Troposphere \\n (400 hPa to 150 hPa)',\n",
    "                      'All layers \\n (surface to top)'],\n",
    "           dms=False,\n",
    "           grid=False,\n",
    "#            suptitle='2020-09-01',\n",
    "          )\n",
    "\n",
    "fig.savefig('../figures/s5p_amf_diff_2020.png')"
   ]
  },
  {
   "cell_type": "markdown",
   "metadata": {},
   "source": [
    "How about the relationship between $\\Delta$AMF_trop and CRF?"
   ]
  },
  {
   "cell_type": "code",
   "execution_count": null,
   "metadata": {},
   "outputs": [],
   "source": [
    "region_subset = (extend[0] <= ds.coords['longitude'].isel(time=0)) \\\n",
    "                & (ds.coords['longitude'].isel(time=0) <= extend[1]) \\\n",
    "                & (extend[2] <= ds.coords['latitude'].isel(time=0)) \\\n",
    "                & (ds.coords['latitude'].isel(time=0) <= extend[3])\n",
    "            \n",
    "amf, amf_mt = delta_amf(ds, ds_nolnox, ds_lnox, s5p_p, amftrop_min, amftrop_max, p_min=400, p_max=800)\n",
    "_, amf_ut = delta_amf(ds, ds_nolnox, ds_lnox, s5p_p, amftrop_min, amftrop_max, p_min=150, p_max=400)\n",
    "_, amf_all = delta_amf(ds, ds_nolnox, ds_lnox, s5p_p, amftrop_min, amftrop_max)\n",
    "\n",
    "pdiff_mt = ((amf_mt-amf)/amf).where(region_subset)#.stack(dim0=['x', 'y'])\n",
    "pdiff_ut = ((amf_ut-amf)/amf).where(region_subset)#.stack(dim0=['x', 'y'])\n",
    "pdiff_all = ((amf_all-amf)/amf).where(region_subset)#.stack(dim0=['x', 'y'])\n",
    "\n",
    "pdiff_ut_large = pdiff_ut.stack(dim0=['x', 'y'])>0.5\n",
    "cp_ut_large = ds['cloud_pressure_crb'].where(region_subset).stack(dim0=['x', 'y']).where(pdiff_ut_large, drop=True)\n",
    "crf_ut_large = ds['cloud_fraction_crb_nitrogendioxide_window'].where(region_subset).stack(dim0=['x', 'y']).where(pdiff_ut_large, drop=True)\n",
    "\n",
    "pdiff_mt_large = pdiff_mt.stack(dim0=['x', 'y'])>0.2\n",
    "cp_mt_large = ds['cloud_pressure_crb'].where(region_subset).stack(dim0=['x', 'y']).where(pdiff_mt_large, drop=True)\n",
    "crf_mt_large = ds['cloud_fraction_crb_nitrogendioxide_window'].where(region_subset).stack(dim0=['x', 'y']).where(pdiff_mt_large, drop=True)\n",
    "\n",
    "pdiff_ut_small = pdiff_ut.stack(dim0=['x', 'y'])<-0.2\n",
    "cp_ut_small = ds['cloud_pressure_crb'].where(region_subset).stack(dim0=['x', 'y']).where(pdiff_ut_small, drop=True)\n",
    "crf_ut_small = ds['cloud_fraction_crb_nitrogendioxide_window'].where(region_subset).stack(dim0=['x', 'y']).where(pdiff_ut_small, drop=True)\n",
    "\n",
    "pdiff_mt_small = pdiff_mt.stack(dim0=['x', 'y'])<-0.2\n",
    "cp_mt_small = ds['cloud_pressure_crb'].where(region_subset).stack(dim0=['x', 'y']).where(pdiff_mt_small, drop=True)\n",
    "crf_mt_small = ds['cloud_fraction_crb_nitrogendioxide_window'].where(region_subset).stack(dim0=['x', 'y']).where(pdiff_mt_small, drop=True)\n",
    "\n",
    "fig, axs = plot.subplots()\n",
    "\n",
    "s_ut_large = axs.scatter(crf_ut_large, cp_ut_large/1e2, c='violet5', label='UT %$\\Delta$AMF$_{Trop}$ > 50%', s=85, zorder=1)\n",
    "s_mt_large = axs.scatter(crf_mt_large, cp_mt_large/1e2, c='orange5', label='MT %$\\Delta$AMF$_{Trop}$ > 20%', s=65, zorder=2)\n",
    "s_ut_small = axs.scatter(crf_ut_small, cp_ut_small/1e2, c='green5', label='UT %$\\Delta$AMF$_{Trop}$ < -5%', s=45, zorder=3)\n",
    "s_mt_small = axs.scatter(crf_mt_small, cp_mt_small/1e2, c='blue5', label='MT %$\\Delta$AMF$_{Trop}$ < -20%', s=25, zorder=7)\n",
    "\n",
    "axs.legend([s_ut_large, s_mt_large, s_ut_small, s_mt_small], loc='r', ncols=1)\n",
    "axs.format(grid=False,\n",
    "           ylabel='Cloud Pressure (hPa)',\n",
    "           xlabel='f$_{effNO_2}$',\n",
    "           xlim=(0.3, 1.05),\n",
    "           ylim=(1000, 100),\n",
    "           title='2020-09-01',\n",
    "           abc=True,\n",
    "           abcloc='ul',\n",
    "           abcstyle='(a)')"
   ]
  },
  {
   "cell_type": "markdown",
   "metadata": {},
   "source": [
    "Compare the difference of amf_ut and amt_mt in the downwind of dissipated regions:"
   ]
  },
  {
   "cell_type": "code",
   "execution_count": null,
   "metadata": {},
   "outputs": [],
   "source": [
    "((amf_mt-amf)/amf).assign_coords(y=range(amf_ut.sizes['y']),\n",
    "                     x=range(amf_ut.sizes['x'])).hvplot(xlim=xlim, ylim=ylim, clim=(0,1), cmap='viridis')"
   ]
  },
  {
   "cell_type": "code",
   "execution_count": null,
   "metadata": {},
   "outputs": [],
   "source": [
    "((amf_ut-amf)/amf).assign_coords(y=range(amf_ut.sizes['y']),\n",
    "                     x=range(amf_ut.sizes['x'])).hvplot(xlim=xlim, ylim=ylim, clim=(0,1), cmap='viridis')"
   ]
  },
  {
   "cell_type": "markdown",
   "metadata": {},
   "source": [
    "Check the cloud pressure:"
   ]
  },
  {
   "cell_type": "code",
   "execution_count": null,
   "metadata": {},
   "outputs": [],
   "source": [
    "(ds['cloud_pressure_crb']/1e2).assign_coords(y=range(amf_ut.sizes['y']),\n",
    "                     x=range(amf_ut.sizes['x'])).hvplot(xlim=xlim, ylim=ylim, cmap='viridis')"
   ]
  },
  {
   "cell_type": "markdown",
   "metadata": {},
   "source": [
    "Check the cloud fraction:"
   ]
  },
  {
   "cell_type": "code",
   "execution_count": null,
   "metadata": {},
   "outputs": [],
   "source": [
    "ds['cloud_radiance_fraction_nitrogendioxide_window'].assign_coords(y=range(amf_ut.sizes['y']),\n",
    "                     x=range(amf_ut.sizes['x'])).hvplot(xlim=xlim, ylim=ylim, cmap='viridis')"
   ]
  },
  {
   "cell_type": "code",
   "execution_count": null,
   "metadata": {},
   "outputs": [],
   "source": [
    "fig, axs = plot.subplots(proj='pcarree', ncols=2, nrows=2)\n",
    "\n",
    "provinces = load_province()\n",
    "axs.add_feature(provinces, edgecolor='k', linewidth=.3)\n",
    "\n",
    "extend = [118, 119.6, 31.2, 32.8]\n",
    "lon_d = 0.5; lat_d = 0.5\n",
    "\n",
    "m0 = axs[0].pcolormesh(ds['assembled_lon_bounds'],\n",
    "                       ds['assembled_lat_bounds'],\n",
    "                       pdiff_mt.where(pdiff_mt>0.2)*1e2,\n",
    "                       vmin=-100,\n",
    "                       vmax=100,\n",
    "                       levels=256,\n",
    "                      cmap='RdBu_r')\n",
    "\n",
    "axs[0].colorbar([m0])\n",
    "\n",
    "m1 = axs[1].pcolormesh(ds['assembled_lon_bounds'],\n",
    "                       ds['assembled_lat_bounds'],\n",
    "                       pdiff_mt.where(pdiff_mt<-0.2)*1e2,\n",
    "                       vmin=-100,\n",
    "                       vmax=100,\n",
    "                       levels=256,\n",
    "                      cmap='RdBu_r')\n",
    "\n",
    "axs[1].colorbar([m1])\n",
    "\n",
    "m2 = axs[2].pcolormesh(ds['assembled_lon_bounds'],\n",
    "                       ds['assembled_lat_bounds'],\n",
    "                       pdiff_ut.where(pdiff_ut<-0.05)*1e2,\n",
    "                       vmin=-100,\n",
    "                       vmax=100,\n",
    "                       levels=256,\n",
    "                      cmap='RdBu_r')\n",
    "\n",
    "axs[2].colorbar([m2])\n",
    "\n",
    "axs.format(abc=True,\n",
    "           abcloc='l',\n",
    "           abcstyle='(a)',\n",
    "           lonlines=lon_d,\n",
    "           latlines=lat_d,\n",
    "           lonlim=(extend[0], extend[1]),\n",
    "           latlim=(extend[2], extend[3]),\n",
    "           rowlabels=['MT', 'UT'],\n",
    "#            collabels=['VCD$_{LNO_x}$',\n",
    "#                       '%$\\Delta$VCD$_{LNO_x}$'],\n",
    "           dms=False,\n",
    "          )"
   ]
  },
  {
   "cell_type": "markdown",
   "metadata": {},
   "source": [
    "## VCD$_{LNO_x}$"
   ]
  },
  {
   "cell_type": "markdown",
   "metadata": {},
   "source": [
    "$ VCD_{LNO_x} = SCD_{NO_2} / AMF_{NO_x} $"
   ]
  },
  {
   "cell_type": "code",
   "execution_count": null,
   "metadata": {},
   "outputs": [],
   "source": [
    "amf_lnox, amf_lnox_mt = delta_amf_lnox(ds, ds_nolnox, ds_lnox, ds_lnox_high, s5p_p, amflnox_min, amflnox_max, p_min=400, p_max=800)\n",
    "\n",
    "_, amf_lnox_ut = delta_amf_lnox(ds, ds_nolnox, ds_lnox, ds_lnox_high, s5p_p, amflnox_min, amflnox_max, p_min=150, p_max=400)\n",
    "\n",
    "_, amf_lnox_all = delta_amf_lnox(ds, ds_nolnox, ds_lnox, ds_lnox_high, s5p_p, amflnox_min, amflnox_max)\n",
    "_, amf_lnox_all_low = delta_amf_lnox(ds, ds_nolnox, ds_lnox, ds_lnox_low, s5p_p, amflnox_min, amflnox_max)\n",
    "\n",
    "lnoxTrop = scdTrop/amf_lnox\n",
    "lnoxTrop_mt = scdTrop/amf_lnox_mt\n",
    "lnoxTrop_ut = scdTrop/amf_lnox_ut\n",
    "lnoxTrop_all = scdTrop/amf_lnox_all\n",
    "lnoxTrop_all_low = scdTrop/amf_lnox_all_low\n",
    "\n",
    "# fig, axs = plot.subplots(proj='pcarree', ncols=2)\n",
    "\n",
    "# provinces = load_province()\n",
    "# axs.add_feature(provinces, edgecolor='k', linewidth=.3)\n",
    "\n",
    "# extend = [118, 119.6, 31.2, 32.8]\n",
    "# lon_d = 0.5; lat_d = 0.5\n",
    "\n",
    "# # only plot the AMFs related to LNOx (0 < AMF < 1)\n",
    "# valid = (0 < amf_lnox) & (amf_lnox <= 1)\n",
    "# difference = (lnoxTrop_all-lnoxTrop)/lnoxTrop*1e2\n",
    "# difference = difference.where(valid)\n",
    "\n",
    "# cmap = plot.Colormap('YlGnBu_r', 'YlOrRd', ratios=(1, 1))\n",
    "\n",
    "# m0 = axs[0].pcolormesh(ds['assembled_lon_bounds'],\n",
    "#                        ds['assembled_lat_bounds'],\n",
    "#                        lnoxTrop*6.02214e3,\n",
    "#                        vmin=0,\n",
    "#                        vmax=2.5,\n",
    "#                        levels=256,\n",
    "#                        cmap=cmap)\n",
    "\n",
    "# axs[0].colorbar([m0], loc='r', ticks=0.25, label='10$^{16}$ molec. / cm$^2$')\n",
    "# axs[0].format(title='VCD$_{LNO_x}$')\n",
    "\n",
    "# m1 = axs[1].pcolormesh(ds['assembled_lon_bounds'],\n",
    "#                        ds['assembled_lat_bounds'],\n",
    "#                        difference,\n",
    "#                        vmin=0,\n",
    "#                        vmax=120,\n",
    "#                        levels=256,\n",
    "#                        cmap=cmap)\n",
    "\n",
    "# axs[1].colorbar([m1], loc='r', label='(700 vs. 500 mol/flash)')\n",
    "# axs[1].format(title='%$\\Delta$VCD$_{LNO_x}$')\n",
    "\n",
    "# axs.format(abc=True,\n",
    "#            abcloc='l',\n",
    "#            abcstyle='(a)',\n",
    "#            lonlines=lon_d,\n",
    "#            latlines=lat_d,\n",
    "#            lonlim=(extend[0], extend[1]),\n",
    "#            latlim=(extend[2], extend[3]),\n",
    "#            rowlabels=['2020-09-01'],\n",
    "# #            collabels=['VCD$_{LNO_x}$',\n",
    "# #                       '%$\\Delta$VCD$_{LNO_x}$'],\n",
    "#            dms=False,\n",
    "#            lonlabels=True,\n",
    "#           )\n",
    "\n",
    "# # format\n",
    "# axs[:, 0].format(latlabels=True)\n",
    "# # fig.savefig('../figures/s5p_vcdlnox_2020.pdf')"
   ]
  },
  {
   "cell_type": "markdown",
   "metadata": {},
   "source": [
    "## Calculation of LNOx PE"
   ]
  },
  {
   "cell_type": "markdown",
   "metadata": {},
   "source": [
    "Let's check the 200 hPa wind speed to see how far the LNOx can travel:"
   ]
  },
  {
   "cell_type": "code",
   "execution_count": null,
   "metadata": {},
   "outputs": [],
   "source": [
    "# 1h 20mins before TROPOMI overpass\n",
    "# ds_wrf = xr.open_dataset(glob('../data/wrfchem/wrfout/20200901/lnox/large_region/wrfout_d04_2020-09-01_04:10:00*')[0])\n",
    "ds_wrf = xr.open_dataset(glob('../data/wrfchem/wrfout/20200901/lnox/wrfout_d04_2020-09-01_04:10:00*')[0])\n",
    "\n",
    "# Extract the pressure, geopotential height, and wind variables\n",
    "p = getvar(ds_wrf._file_obj.ds, \"pressure\")\n",
    "ua = getvar(ds_wrf._file_obj.ds, \"ua\", units=\"kt\")\n",
    "va = getvar(ds_wrf._file_obj.ds, \"va\", units=\"kt\")\n",
    "\n",
    "u = interplevel(getvar(ds_wrf._file_obj.ds, \"ua\", units=\"km h-1\"), p, 200)\n",
    "v = interplevel(getvar(ds_wrf._file_obj.ds, \"va\", units=\"km h-1\"), p, 200)\n",
    "\n",
    "\n",
    "# Get the lat/lon coordinates\n",
    "lats, lons = latlon_coords(p)\n",
    "\n",
    "# Interpolate u, and v winds to 200 hPa\n",
    "u_200 = interplevel(ua, p, 200)\n",
    "v_200 = interplevel(va, p, 200)"
   ]
  },
  {
   "cell_type": "code",
   "execution_count": null,
   "metadata": {},
   "outputs": [],
   "source": [
    "fig, axs = plot.subplots()\n",
    "step = 20\n",
    "axs.barbs(to_np(lons[::step,::step]), to_np(lats[::step,::step]),\n",
    "          to_np(u_200[::step, ::step]), to_np(v_200[::step, ::step]),\n",
    "#           transform=crs.PlateCarree(),\n",
    "#           length=6\n",
    "          )"
   ]
  },
  {
   "cell_type": "code",
   "execution_count": null,
   "metadata": {},
   "outputs": [],
   "source": [
    "fig, axs = plot.subplots(proj='pcarree')\n",
    "\n",
    "provinces = load_province()\n",
    "axs.add_feature(provinces, edgecolor='k', linewidth=.3)\n",
    "\n",
    "extend = [118.5, 119, 31.2, 31.7]\n",
    "lon_d = 0.1; lat_d = 0.1\n",
    "\n",
    "ws = np.sqrt(np.square(u)+np.square(v))\n",
    "m = axs.pcolormesh(lons, lats, ws, cmap='viridis')\n",
    "axs.colorbar(m)\n",
    "axs.format(lonlines=lon_d,\n",
    "           latlines=lat_d,\n",
    "           lonlim=(extend[0], extend[1]),\n",
    "           latlim=(extend[2], extend[3]),\n",
    "           latlabels=True,\n",
    "           lonlabels=True,\n",
    "           dms=False,\n",
    "           title='200 hPa wind speed (km/h)')\n",
    "\n",
    "ws_max = ws.where((extend[0]<lons)&(lons<extend[1])&(extend[2]<lats)&(lats<extend[3])).max().values"
   ]
  },
  {
   "cell_type": "markdown",
   "metadata": {},
   "source": [
    "Even if we choose the maximum wind speed, the moving distance is:"
   ]
  },
  {
   "cell_type": "code",
   "execution_count": null,
   "metadata": {},
   "outputs": [],
   "source": [
    "fig, axs = plot.subplots(proj='pcarree')\n",
    "\n",
    "extend = [118, 120, 30.49, 32.51]\n",
    "lon_d = 0.5; lat_d = 0.5\n",
    "\n",
    "provinces = load_province()\n",
    "axs.add_feature(provinces, edgecolor='k', linewidth=.3)\n",
    "\n",
    "s = axs.scatter(ltng['longitude'], ltng['latitude'],\n",
    "                c=abs(ltng['delta'])*ws_max/60/110,\n",
    "                vmin=0,\n",
    "                vmax=1.5,\n",
    "                cmap='viridis')\n",
    "axs.colorbar(s, label='moving degree')\n",
    "\n",
    "axs.format(lonlines=lon_d,\n",
    "           latlines=lat_d,\n",
    "           lonlim=(extend[0], extend[1]),\n",
    "           latlim=(extend[2], extend[3]),\n",
    "           latlabels=True,\n",
    "           lonlabels=True,\n",
    "           dms=False)"
   ]
  },
  {
   "cell_type": "markdown",
   "metadata": {},
   "source": [
    "So, we can limit the region for VCD$_{LNOx}$ and flashes independently:"
   ]
  },
  {
   "cell_type": "code",
   "execution_count": null,
   "metadata": {},
   "outputs": [],
   "source": [
    "fig, axs = plot.subplots(proj='pcarree')#, ncols=2)\n",
    "\n",
    "provinces = load_province()\n",
    "axs.add_feature(provinces, edgecolor='k', linewidth=.3)\n",
    "\n",
    "extend = [118, 120, 30.49, 32.51]\n",
    "lon_d = 0.5; lat_d = 0.5\n",
    "\n",
    "# cmap = plot.Colormap('YlGnBu_r', 'YlOrRd', ratios=(1, 1))\n",
    "cmap='Ice'\n",
    "cmap_kw = {'left': 0.05, 'right': 0.85}\n",
    "\n",
    "m0 = axs[0].pcolormesh(ds['assembled_lon_bounds'],\n",
    "                       ds['assembled_lat_bounds'],\n",
    "                       lnoxTrop*6.02214e3,\n",
    "                       vmin=0,\n",
    "                       vmax=1.5,\n",
    "                       levels=256,\n",
    "                       cmap=cmap,\n",
    "                       cmap_kw=cmap_kw)\n",
    "\n",
    "axs[0].colorbar([m0], loc='r', ticks=0.25, minorticks=0.125, extend='max',\n",
    "                label='VCD$_{LNO_x}$ (10$^{16}$ molec. / cm$^2$)')\n",
    "axs[0].format(title='')\n",
    "# axs[0].format(title='VCD$_{LNO_x}$ (2020-09-01)')\n",
    "\n",
    "ltng_bounds = np.concatenate([np.linspace(begin_t, -30, 6), np.linspace(-20, -0, 3)])\n",
    "norm = matplotlib.colors.BoundaryNorm(boundaries=ltng_bounds, ncolors=256)\n",
    "\n",
    "s = axs[0].scatter(ltng['longitude'], ltng['latitude'],\n",
    "                 c=ltng['delta'],\n",
    "                 cmap='RdYlGn',\n",
    "                 cmap_kw={'left':0.1, 'cut': 0.3, 'shift': 180},\n",
    "                 norm=norm,\n",
    "                 s=1)\n",
    "\n",
    "s.set_facecolor(\"none\")\n",
    "axs[0].colorbar(s, loc='r',\n",
    "                ticks=ltng_bounds,\n",
    "                label='Flash Time (mins)')\n",
    "\n",
    "# # add rectangle for flashes\n",
    "# rec_ll_flash = (118.2, 30.95)\n",
    "# rec_width_flash = 1.5\n",
    "# rec_height_flash = 1.1\n",
    "\n",
    "# add larger rectangle for flashes\n",
    "rec_ll_flash = (118.1, 30.5)\n",
    "rec_width_flash = 1.6\n",
    "rec_height_flash = 1.55\n",
    "\n",
    "axs[0].add_patch(matplotlib.patches.Rectangle(rec_ll_flash,\n",
    "                                       rec_width_flash,\n",
    "                                       rec_height_flash,\n",
    "                                       fill=None,\n",
    "                                       edgecolor='white',\n",
    "                                       linestyle='-'))\n",
    "\n",
    "# # add rectangle for VCDs\n",
    "# rec_ll_vcd = (118.4, 30.951)\n",
    "# rec_width_vcd = 1.29\n",
    "# rec_height_vcd = 0.9\n",
    "\n",
    "# add larger rectangle for VCDs\n",
    "rec_ll_vcd = (118.1, 30.51)\n",
    "rec_width_vcd = 1.59\n",
    "rec_height_vcd = 1.45\n",
    "\n",
    "axs[0].add_patch(matplotlib.patches.Rectangle(rec_ll_vcd,\n",
    "                                       rec_width_vcd,\n",
    "                                       rec_height_vcd,\n",
    "                                       fill=None,\n",
    "                                       edgecolor='white',\n",
    "                                       linestyle='--'))\n",
    "\n",
    "# m1 = axs[1].pcolormesh(ds['assembled_lon_bounds'],\n",
    "#                        ds['assembled_lat_bounds'],\n",
    "#                        difference,\n",
    "#                        vmin=0,\n",
    "#                        vmax=120,\n",
    "#                        levels=256,\n",
    "#                        cmap=cmap,\n",
    "#                        cmap_kw=cmap_kw)\n",
    "\n",
    "# axs[1].colorbar([m1], loc='r', ticks=30, label='(700 vs. 330 mol/flash)')\n",
    "# axs[1].format(title='%$\\Delta$VCD$_{LNO_x}$')\n",
    "\n",
    "\n",
    "axs.format(\n",
    "#            abc=True,\n",
    "#            abcloc='l',\n",
    "#            abcstyle='(a)',\n",
    "           lonlines=lon_d,\n",
    "           latlines=lat_d,\n",
    "           lonlim=(extend[0], extend[1]),\n",
    "           latlim=(extend[2], extend[3]),\n",
    "#            rowlabels=['2020-09-01'],\n",
    "           dms=False,\n",
    "           lonlabels=True,\n",
    "           latlabels=True,\n",
    "           grid=False\n",
    "          )\n",
    "\n",
    "# format\n",
    "# axs[:, 0].format(latlabels=True)\n",
    "\n",
    "fig.savefig('../figures/s5p_vcdlnox_2020.png')"
   ]
  },
  {
   "cell_type": "markdown",
   "metadata": {},
   "source": [
    "Without consideration of lifetime"
   ]
  },
  {
   "cell_type": "code",
   "execution_count": null,
   "metadata": {},
   "outputs": [],
   "source": [
    "valid = (0 < amf_lnox) & (amf_lnox <= 10)"
   ]
  },
  {
   "cell_type": "code",
   "execution_count": null,
   "metadata": {},
   "outputs": [],
   "source": [
    "valid.plot(xlim=xlim, ylim=ylim)"
   ]
  },
  {
   "cell_type": "code",
   "execution_count": null,
   "metadata": {},
   "outputs": [],
   "source": [
    "# lnoxTrop # mol/m2\n",
    "\n",
    "lon_min_flash = rec_ll_flash[0]\n",
    "lon_max_flash = rec_ll_flash[0] + rec_width_flash\n",
    "lat_min_flash = rec_ll_flash[1]\n",
    "lat_max_flash = rec_ll_flash[1] + rec_height_flash\n",
    "\n",
    "lon_min_vcd = rec_ll_vcd[0]\n",
    "lon_max_vcd = rec_ll_vcd[0] + rec_width_vcd\n",
    "lat_min_vcd = rec_ll_vcd[1]\n",
    "lat_max_vcd = rec_ll_vcd[1] + rec_height_vcd\n",
    "\n",
    "lnoxTrop_sum = lnoxTrop.where((ds.isel(time=0).longitude >= lon_min_vcd) &\n",
    "                              (ds.isel(time=0).longitude <= lon_max_vcd) &\n",
    "                              (ds.isel(time=0).latitude >= lat_min_vcd) &\n",
    "                              (ds.isel(time=0).latitude <= lat_max_vcd)\n",
    "#                               & valid\n",
    "                              ).sum()\n",
    "\n",
    "ltng_num = len(ltng.loc[(ltng['longitude'] >= lon_min_flash) &\n",
    "                        (ltng['longitude'] <= lon_max_flash) &\n",
    "                        (ltng['latitude'] >= lat_min_flash) &\n",
    "                        (ltng['latitude'] <= lat_max_flash)].index)\n",
    "\n",
    "lnox_pe = lnoxTrop_sum/(ltng_num*4)*(5.6*3.5*1e6) # IC:CG = 3:1\n",
    "\n",
    "print(f'Total lightning number: {ltng_num}, LNOx PE (mol/flash): {lnox_pe.values}')"
   ]
  },
  {
   "cell_type": "markdown",
   "metadata": {},
   "source": [
    "Consider the lifetime of each flash:\n",
    "\\begin{equation} \\label{eq: lnox}\n",
    "PE_{LNO_x} = \\sum_{p} V_i A_i / \\sum_{N} F_j e^{-(t_0 - t_j) / \\tau}\n",
    "\\end{equation}"
   ]
  },
  {
   "cell_type": "code",
   "execution_count": null,
   "metadata": {},
   "outputs": [],
   "source": [
    "lifetime = 3 # hour\n",
    "ltng['num'] = np.exp(ltng['delta']/(lifetime*60))\n",
    "\n",
    "ltng_num = ltng['num'].loc[(ltng['longitude'] >= lon_min_flash) &\n",
    "                        (ltng['longitude'] <= lon_max_flash) &\n",
    "                        (ltng['latitude'] >= lat_min_flash) &\n",
    "                        (ltng['latitude'] <= lat_max_flash)].sum()\n",
    "\n",
    "\n",
    "lnox_pe = lnoxTrop_sum.values/(ltng_num*4)*(5.6*3.5*1e6) # IC:CG = 3:1\n",
    "\n",
    "print(lnoxTrop_sum, ltng_num)\n",
    "print(f'Total lightning number: {ltng_num}, LNOx PE (mol/flash): {lnox_pe}')"
   ]
  },
  {
   "cell_type": "markdown",
   "metadata": {},
   "source": [
    "## Uncertainties"
   ]
  },
  {
   "cell_type": "markdown",
   "metadata": {},
   "source": [
    "\\begin{equation}\n",
    "uncertainty_i (\\%) = \\frac{(PE_{high} - PE) - (PE_{low}-PE)}{2PE} \\\\\n",
    "Uncertainty (\\%) = \\sqrt[]{\\sum_{i} {uncertainty_i}^2}\n",
    "\\end{equation}"
   ]
  },
  {
   "cell_type": "code",
   "execution_count": null,
   "metadata": {},
   "outputs": [],
   "source": [
    "uncertainty ={}"
   ]
  },
  {
   "cell_type": "markdown",
   "metadata": {},
   "source": [
    "### 1. lifetime (2 hour and 6 hour)"
   ]
  },
  {
   "cell_type": "code",
   "execution_count": null,
   "metadata": {},
   "outputs": [],
   "source": [
    "lifetime = 2 # hour\n",
    "ltng['num'] = np.exp(ltng['delta']/(lifetime*60))\n",
    "\n",
    "ltng_num = ltng['num'].loc[(ltng['longitude'] >= lon_min_flash) &\n",
    "                        (ltng['longitude'] <= lon_max_flash) &\n",
    "                        (ltng['latitude'] >= lat_min_flash) &\n",
    "                        (ltng['latitude'] <= lat_max_flash)].sum()\n",
    "\n",
    "\n",
    "lnox_pe_1 = lnoxTrop_sum.values/(ltng_num*4)*(5.6*3.5*1e6)\n",
    "\n",
    "lifetime = 6 # hour\n",
    "ltng['num'] = np.exp(ltng['delta']/(lifetime*60))\n",
    "\n",
    "ltng_num = ltng['num'].loc[(ltng['longitude'] >= lon_min_flash) &\n",
    "                        (ltng['longitude'] <= lon_max_flash) &\n",
    "                        (ltng['latitude'] >= lat_min_flash) &\n",
    "                        (ltng['latitude'] <= lat_max_flash)].sum()\n",
    "\n",
    "\n",
    "lnox_pe_2 = lnoxTrop_sum.values/(ltng_num*4)*(5.6*3.5*1e6)\n",
    "\n",
    "uncertainty['lifetime'] = [(lnox_pe_1 - lnox_pe) - (lnox_pe_2 - lnox_pe)]/(2*lnox_pe)\n",
    "\n",
    "print(f'Uncertainty of u_lifetime: {uncertainty[\"lifetime\"]}')"
   ]
  },
  {
   "cell_type": "markdown",
   "metadata": {},
   "source": [
    "### 2. Background (not sure)"
   ]
  },
  {
   "cell_type": "code",
   "execution_count": null,
   "metadata": {},
   "outputs": [],
   "source": [
    "# half of Allen et al. (2021)\n",
    "uncertainty['background'] = 0.1"
   ]
  },
  {
   "cell_type": "markdown",
   "metadata": {},
   "source": [
    "### 3. NO/NO2 ratios"
   ]
  },
  {
   "cell_type": "code",
   "execution_count": null,
   "metadata": {},
   "outputs": [],
   "source": [
    "# Allen et al. (2021)\n",
    "uncertainty['no/no2'] = 0.3"
   ]
  },
  {
   "cell_type": "markdown",
   "metadata": {},
   "source": [
    "### 4. Lightning detection efficiency (IC:CG, [2:1, 4:1])"
   ]
  },
  {
   "cell_type": "code",
   "execution_count": null,
   "metadata": {},
   "outputs": [],
   "source": [
    "lifetime = 3 # hour\n",
    "ltng['num'] = np.exp(ltng['delta']/(lifetime*60))\n",
    "\n",
    "ltng_num = ltng['num'].loc[(ltng['longitude'] >= lon_min_flash) &\n",
    "                        (ltng['longitude'] <= lon_max_flash) &\n",
    "                        (ltng['latitude'] >= lat_min_flash) &\n",
    "                        (ltng['latitude'] <= lat_max_flash)].sum()\n",
    "\n",
    "# IC:CG = 2:1\n",
    "lnox_pe_1 = lnoxTrop_sum.values/(ltng_num*3)*(5.6*3.5*1e6)\n",
    "\n",
    "ltng['num'] = np.exp(ltng['delta']/(lifetime*60))\n",
    "\n",
    "ltng_num = ltng['num'].loc[(ltng['longitude'] >= lon_min_flash) &\n",
    "                        (ltng['longitude'] <= lon_max_flash) &\n",
    "                        (ltng['latitude'] >= lat_min_flash) &\n",
    "                        (ltng['latitude'] <= lat_max_flash)].sum()\n",
    "\n",
    "# IC:CG = 4:1\n",
    "lnox_pe_2 = lnoxTrop_sum.values/(ltng_num*5)*(5.6*3.5*1e6)\n",
    "\n",
    "uncertainty['de'] = [(lnox_pe_1 - lnox_pe) - (lnox_pe_2 - lnox_pe)]/(2*lnox_pe)\n",
    "\n",
    "print(f'Uncertainty of DE: {uncertainty[\"de\"]}')"
   ]
  },
  {
   "cell_type": "markdown",
   "metadata": {},
   "source": [
    "### 5. LNO profile"
   ]
  },
  {
   "cell_type": "markdown",
   "metadata": {},
   "source": [
    "The percent difference between LNOxTrop based on 700, 500, and 330 mol/flash:"
   ]
  },
  {
   "cell_type": "code",
   "execution_count": null,
   "metadata": {},
   "outputs": [],
   "source": [
    "lifetime = 3 # hour\n",
    "ltng['num'] = np.exp(ltng['delta']/(lifetime*60))\n",
    "\n",
    "ltng_num = ltng['num'].loc[(ltng['longitude'] >= lon_min_flash) &\n",
    "                        (ltng['longitude'] <= lon_max_flash) &\n",
    "                        (ltng['latitude'] >= lat_min_flash) &\n",
    "                        (ltng['latitude'] <= lat_max_flash)].sum()\n",
    "\n",
    "\n",
    "lnoxTrop_700_sum = lnoxTrop_all.where((ds.isel(time=0).longitude >= lon_min_vcd) &\n",
    "                              (ds.isel(time=0).longitude <= lon_max_vcd) &\n",
    "                              (ds.isel(time=0).latitude >= lat_min_vcd) &\n",
    "                              (ds.isel(time=0).latitude <= lat_max_vcd)\n",
    "#                               & valid\n",
    "                              ).sum()\n",
    "\n",
    "lnoxTrop_330_sum = lnoxTrop_all_low.where((ds.isel(time=0).longitude >= lon_min_vcd) &\n",
    "                              (ds.isel(time=0).longitude <= lon_max_vcd) &\n",
    "                              (ds.isel(time=0).latitude >= lat_min_vcd) &\n",
    "                              (ds.isel(time=0).latitude <= lat_max_vcd)\n",
    "#                               & valid\n",
    "                              ).sum()\n",
    "\n",
    "lnox_pe_1 = lnoxTrop_330_sum.values/(ltng_num*4)*(5.6*3.5*1e6) # IC:CG = 3:1\n",
    "lnox_pe_2 = lnoxTrop_700_sum.values/(ltng_num*4)*(5.6*3.5*1e6) # IC:CG = 3:1\n",
    "\n",
    "\n",
    "uncertainty['profile'] = [(lnox_pe_2 - lnox_pe) - (lnox_pe_1 - lnox_pe)]/(2*lnox_pe)\n",
    "\n",
    "print(f'Uncertainty of LNO profile: {uncertainty[\"profile\"]}')"
   ]
  },
  {
   "cell_type": "code",
   "execution_count": null,
   "metadata": {},
   "outputs": [],
   "source": [
    "lnox_pe_1, lnox_pe_2, lnox_pe"
   ]
  },
  {
   "cell_type": "markdown",
   "metadata": {},
   "source": [
    "### 6. Other sources"
   ]
  },
  {
   "cell_type": "code",
   "execution_count": null,
   "metadata": {},
   "outputs": [],
   "source": [
    "uncertainty['others'] = 0.1"
   ]
  },
  {
   "cell_type": "markdown",
   "metadata": {},
   "source": [
    "### All"
   ]
  },
  {
   "cell_type": "code",
   "execution_count": null,
   "metadata": {},
   "outputs": [],
   "source": [
    "uncertainty"
   ]
  },
  {
   "cell_type": "code",
   "execution_count": null,
   "metadata": {},
   "outputs": [],
   "source": [
    "uncertainty_list = []\n",
    "for item in uncertainty.values():\n",
    "    uncertainty_list.append(item**2)\n",
    "uncertainty_all = np.sqrt(sum(uncertainty_list))\n",
    "\n",
    "print(f'Uncertainty: {uncertainty_all}')\n",
    "print(f'LNOx PE : {lnox_pe} +- {lnox_pe*uncertainty_all} mol/flash')"
   ]
  },
  {
   "cell_type": "markdown",
   "metadata": {},
   "source": [
    "## Calculation of LNOx PE with linear interpolation"
   ]
  },
  {
   "cell_type": "markdown",
   "metadata": {},
   "source": [
    "Original without interpolation:"
   ]
  },
  {
   "cell_type": "code",
   "execution_count": null,
   "metadata": {},
   "outputs": [],
   "source": [
    "lnoxTrop.plot(xlim=xlim, ylim=ylim, vmax=1e-3)"
   ]
  },
  {
   "cell_type": "markdown",
   "metadata": {},
   "source": [
    "With linear interpolation:"
   ]
  },
  {
   "cell_type": "code",
   "execution_count": null,
   "metadata": {},
   "outputs": [],
   "source": [
    "interp_lnoxTrop = lnoxTrop.assign_coords(longitude=ds.longitude.isel(time=0), latitude=ds.latitude.isel(time=0))\n",
    "interp_lnoxTrop = interp_lnoxTrop.rio.write_crs(4326).rio.write_nodata(np.nan).rio.interpolate_na(method='linear')\n",
    "interp_lnoxTrop.plot(xlim=xlim, ylim=ylim, vmax=1e-3)"
   ]
  },
  {
   "cell_type": "code",
   "execution_count": null,
   "metadata": {},
   "outputs": [],
   "source": [
    "interp_lnoxTrop.where((ds.isel(time=0).longitude >= lon_min_vcd) &\n",
    "                              (ds.isel(time=0).longitude <= lon_max_vcd) &\n",
    "                              (ds.isel(time=0).latitude >= lat_min_vcd) &\n",
    "                              (ds.isel(time=0).latitude <= lat_max_vcd)\n",
    "                              ).plot(xlim=xlim, ylim=ylim, vmax=1e-3)"
   ]
  },
  {
   "cell_type": "code",
   "execution_count": null,
   "metadata": {},
   "outputs": [],
   "source": [
    "# interp_lnoxTrop # mol/m2\n",
    "\n",
    "lon_min_flash = rec_ll_flash[0]\n",
    "lon_max_flash = rec_ll_flash[0] + rec_width_flash\n",
    "lat_min_flash = rec_ll_flash[1]\n",
    "lat_max_flash = rec_ll_flash[1] + rec_height_flash\n",
    "\n",
    "lon_min_vcd = rec_ll_vcd[0]\n",
    "lon_max_vcd = rec_ll_vcd[0] + rec_width_vcd\n",
    "lat_min_vcd = rec_ll_vcd[1]\n",
    "lat_max_vcd = rec_ll_vcd[1] + rec_height_vcd\n",
    "\n",
    "interp_lnoxTrop_sum = interp_lnoxTrop.where((ds.isel(time=0).longitude >= lon_min_vcd) &\n",
    "                              (ds.isel(time=0).longitude <= lon_max_vcd) &\n",
    "                              (ds.isel(time=0).latitude >= lat_min_vcd) &\n",
    "                              (ds.isel(time=0).latitude <= lat_max_vcd)\n",
    "#                               & valid\n",
    "                              ).sum()\n",
    "\n",
    "ltng_num = len(ltng.loc[(ltng['longitude'] >= lon_min_flash) &\n",
    "                        (ltng['longitude'] <= lon_max_flash) &\n",
    "                        (ltng['latitude'] >= lat_min_flash) &\n",
    "                        (ltng['latitude'] <= lat_max_flash)].index)\n",
    "\n",
    "interp_lnox_pe = interp_lnoxTrop_sum/(ltng_num*4)*(5.6*3.5*1e6) # IC:CG = 3:1\n",
    "\n",
    "print(f'Total lightning number: {ltng_num}, LNOx PE (mol/flash): {interp_lnox_pe.values}')"
   ]
  },
  {
   "cell_type": "markdown",
   "metadata": {},
   "source": [
    "Consider the lifetime of each flash:\n",
    "\\begin{equation} \\label{eq: lnox}\n",
    "PE_{LNO_x} = \\sum_{p} V_i A_i / \\sum_{N} F_j e^{-(t_0 - t_j) / \\tau}\n",
    "\\end{equation}"
   ]
  },
  {
   "cell_type": "code",
   "execution_count": null,
   "metadata": {},
   "outputs": [],
   "source": [
    "lifetime = 3 # hour\n",
    "ltng['num'] = np.exp(ltng['delta']/(lifetime*60))\n",
    "\n",
    "ltng_num = ltng['num'].loc[(ltng['longitude'] >= lon_min_flash) &\n",
    "                        (ltng['longitude'] <= lon_max_flash) &\n",
    "                        (ltng['latitude'] >= lat_min_flash) &\n",
    "                        (ltng['latitude'] <= lat_max_flash)].sum()\n",
    "\n",
    "\n",
    "interp_lnox_pe = interp_lnoxTrop_sum.values/(ltng_num*4)*(5.6*3.5*1e6) # IC:CG = 3:1\n",
    "\n",
    "print(interp_lnoxTrop_sum, ltng_num)\n",
    "print(f'Total lightning number: {ltng_num}, LNOx PE (mol/flash): {interp_lnox_pe}')"
   ]
  }
 ],
 "metadata": {
  "kernelspec": {
   "display_name": "Python 3",
   "language": "python",
   "name": "python3"
  },
  "language_info": {
   "codemirror_mode": {
    "name": "ipython",
    "version": 3
   },
   "file_extension": ".py",
   "mimetype": "text/x-python",
   "name": "python",
   "nbconvert_exporter": "python",
   "pygments_lexer": "ipython3",
   "version": "3.8.8"
  }
 },
 "nbformat": 4,
 "nbformat_minor": 4
}
